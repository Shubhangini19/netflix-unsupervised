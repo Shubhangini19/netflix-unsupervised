{
  "nbformat": 4,
  "nbformat_minor": 0,
  "metadata": {
    "colab": {
      "private_outputs": true,
      "provenance": [],
      "collapsed_sections": [
        "vncDsAP0Gaoa",
        "FJNUwmbgGyua",
        "w6K7xa23Elo4",
        "yQaldy8SH6Dl",
        "mDgbUHAGgjLW",
        "O_i_v8NEhb9l",
        "HhfV-JJviCcP",
        "Y3lxredqlCYt",
        "3RnN4peoiCZX",
        "x71ZqKXriCWQ",
        "7hBIi_osiCS2",
        "JlHwYmJAmNHm",
        "35m5QtbWiB9F",
        "PoPl-ycgm1ru",
        "H0kj-8xxnORC",
        "nA9Y7ga8ng1Z",
        "PBTbrJXOngz2",
        "u3PMJOP6ngxN",
        "dauF4eBmngu3",
        "bKJF3rekwFvQ",
        "MSa1f5Uengrz",
        "GF8Ens_Soomf",
        "0wOQAZs5pc--",
        "K5QZ13OEpz2H",
        "lQ7QKXXCp7Bj",
        "448CDAPjqfQr",
        "KSlN3yHqYklG",
        "t6dVpIINYklI",
        "ijmpgYnKYklI",
        "-JiQyfWJYklI",
        "EM7whBJCYoAo",
        "fge-S5ZAYoAp",
        "85gYPyotYoAp",
        "RoGjAbkUYoAp",
        "4Of9eVA-YrdM",
        "iky9q4vBYrdO",
        "F6T5p64dYrdO",
        "y-Ehk30pYrdP",
        "bamQiAODYuh1",
        "QHF8YVU7Yuh3",
        "GwzvFGzlYuh3",
        "qYpmQ266Yuh3",
        "OH-pJp9IphqM",
        "bbFf2-_FphqN",
        "_ouA3fa0phqN",
        "Seke61FWphqN",
        "PIIx-8_IphqN",
        "t27r6nlMphqO",
        "r2jJGEOYphqO",
        "b0JNsNcRphqO",
        "BZR9WyysphqO",
        "jj7wYXLtphqO",
        "eZrbJ2SmphqO",
        "rFu4xreNphqO",
        "YJ55k-q6phqO",
        "gCFgpxoyphqP",
        "OVtJsKN_phqQ",
        "lssrdh5qphqQ",
        "U2RJ9gkRphqQ",
        "1M8mcRywphqQ",
        "tgIPom80phqQ",
        "JMzcOPDDphqR",
        "x-EpHcCOp1ci",
        "X_VqEhTip1ck",
        "8zGJKyg5p1ck",
        "PVzmfK_Ep1ck",
        "n3dbpmDWp1ck",
        "ylSl6qgtp1ck",
        "ZWILFDl5p1ck",
        "M7G43BXep1ck",
        "Ag9LCva-p1cl",
        "E6MkPsBcp1cl",
        "2cELzS2fp1cl",
        "3MPXvC8up1cl",
        "NC_X3p0fY2L0",
        "UV0SzAkaZNRQ",
        "YPEH6qLeZNRQ",
        "q29F0dvdveiT",
        "EXh0U9oCveiU",
        "22aHeOlLveiV",
        "g-ATYxFrGrvw",
        "Yfr_Vlr8HBkt",
        "8yEUt7NnHlrM",
        "tEA2Xm5dHt1r",
        "I79__PHVH19G",
        "Ou-I18pAyIpj",
        "fF3858GYyt-u",
        "4_0_7-oCpUZd",
        "hwyV_J3ipUZe",
        "3yB-zSqbpUZe",
        "dEUvejAfpUZe",
        "Fd15vwWVpUZf",
        "bn_IUdTipZyH",
        "49K5P_iCpZyH",
        "Nff-vKELpZyI",
        "kLW572S8pZyI",
        "dWbDXHzopZyI",
        "yLjJCtPM0KBk",
        "xiyOF9F70UgQ",
        "7wuGOrhz0itI",
        "id1riN9m0vUs",
        "578E2V7j08f6",
        "89xtkJwZ18nB",
        "67NQN5KX2AMe",
        "Iwf50b-R2tYG",
        "GMQiZwjn3iu7",
        "WVIkgGqN3qsr",
        "XkPnILGE3zoT",
        "Hlsf0x5436Go",
        "mT9DMSJo4nBL",
        "c49ITxTc407N",
        "OeJFEK0N496M",
        "9ExmJH0g5HBk",
        "cJNqERVU536h",
        "k5UmGsbsOxih",
        "T0VqWOYE6DLQ",
        "qBMux9mC6MCf",
        "-oLEiFgy-5Pf",
        "C74aWNz2AliB",
        "2DejudWSA-a0",
        "pEMng2IbBLp7",
        "rAdphbQ9Bhjc",
        "TNVZ9zx19K6k",
        "nqoHp30x9hH9",
        "rMDnDkt2B6du",
        "yiiVWRdJDDil",
        "1UUpS68QDMuG",
        "kexQrXU-DjzY",
        "T5CmagL3EC8N",
        "BhH2vgX9EjGr",
        "qjKvONjwE8ra",
        "P1XJ9OREExlT",
        "VFOzZv6IFROw",
        "TIqpNgepFxVj",
        "VfCC591jGiD4",
        "OB4l2ZhMeS1U",
        "ArJBuiUVfxKd",
        "4qY1EAkEfxKe",
        "PiV4Ypx8fxKe",
        "TfvqoZmBfxKf",
        "dJ2tPlVmpsJ0",
        "JWYfwnehpsJ1",
        "-jK_YjpMpsJ2",
        "HAih1iBOpsJ2",
        "zVGeBEFhpsJ2",
        "bmKjuQ-FpsJ3",
        "Fze-IPXLpx6K",
        "7AN1z2sKpx6M",
        "9PIHJqyupx6M",
        "_-qAgymDpx6N",
        "Z-hykwinpx6N",
        "h_CCil-SKHpo",
        "cBFFvTBNJzUa",
        "HvGl1hHyA_VK",
        "EyNgTHvd2WFk",
        "KH5McJBi2d8v",
        "iW_Lq9qf2h6X",
        "-Kee-DAl2viO",
        "gCX9965dhzqZ",
        "gIfDvo9L0UH2"
      ],
      "include_colab_link": true
    },
    "kernelspec": {
      "name": "python3",
      "display_name": "Python 3"
    },
    "language_info": {
      "name": "python"
    }
  },
  "cells": [
    {
      "cell_type": "markdown",
      "metadata": {
        "id": "view-in-github",
        "colab_type": "text"
      },
      "source": [
        "<a href=\"https://colab.research.google.com/github/Shubhangini19/netflix-unsupervised/blob/main/Unsupervised_project.ipynb\" target=\"_parent\"><img src=\"https://colab.research.google.com/assets/colab-badge.svg\" alt=\"Open In Colab\"/></a>"
      ]
    },
    {
      "cell_type": "markdown",
      "source": [
        "# **Project Name**    - Netflix Movies & TV Shows Clustering\n",
        "\n"
      ],
      "metadata": {
        "id": "vncDsAP0Gaoa"
      }
    },
    {
      "cell_type": "markdown",
      "source": [
        "##### **Project Type**    - Unsupervised\n",
        "##### **Contribution**    - Team\n",
        "##### **Team Member 1 -**  Shubhangini Ganguli\n",
        "##### **Team Member 2 -**  Shabana Ali\n",
        "##### **Team Member 3 -**  Mohd Ashif Khan\n",
        "##### **Team Member 4 -**  Mayank Belwal"
      ],
      "metadata": {
        "id": "beRrZCGUAJYm"
      }
    },
    {
      "cell_type": "markdown",
      "source": [
        "# **Project Summary -**"
      ],
      "metadata": {
        "id": "FJNUwmbgGyua"
      }
    },
    {
      "cell_type": "markdown",
      "source": [
        "1.The goal of the project was to analyze and cluster Netflix movies and TV shows based on their genre, director,cast,country and description, and to develop a recommender system that recommends movies and TV shows based on user preferences.\n",
        "\n",
        "2.The project used a dataset of Netflix movies and TV shows.The dataset contained information such as the title, director, cast, country, date added, release year, rating, and genre of each movie and TV show.\n",
        "\n",
        "3.The project first performed data cleaning and preprocessing on the dataset. This included handling missing values, converting data types, and creating new features.\n",
        "\n",
        "4.The project then used unsupervised machine learning techniques such as k-means clustering and hierarchical clustering to cluster the movies and TV shows based on their genre,director,cast,country and description.\n",
        "\n",
        "5.The project also developed a content-based recommender system that recommends movies and TV shows based on their similarity to other movies and TV shows.\n",
        "\n",
        "6.The content-based recommender system used features such as genre, director, cast to compute the similarity between movies and TV shows. The similarity was measured using cosine similarity, which measures the cosine of the angle between two vectors in a high-dimensional space.\n",
        "\n",
        "7.Finally the project demonstrated the usefulness of unsupervised machine learning techniques for analyzing and clustering large datasets of movies and TV shows, as well as the effectiveness of content-based recommender systems for providing personalized recommendations based on user preferences."
      ],
      "metadata": {
        "id": "F6v_1wHtG2nS"
      }
    },
    {
      "cell_type": "markdown",
      "source": [
        "# **GitHub Link -**"
      ],
      "metadata": {
        "id": "w6K7xa23Elo4"
      }
    },
    {
      "cell_type": "markdown",
      "source": [
        "Provide your GitHub Link here."
      ],
      "metadata": {
        "id": "h1o69JH3Eqqn"
      }
    },
    {
      "cell_type": "markdown",
      "source": [
        "# **Problem Statement**\n"
      ],
      "metadata": {
        "id": "yQaldy8SH6Dl"
      }
    },
    {
      "cell_type": "markdown",
      "source": [
        "This dataset consists of tv shows and movies available on Netflix as of 2019. The dataset is collected from Flixable which is a third-party Netflix search.\n",
        "\n",
        "In 2018, they released an interesting report which shows that the number of TV shows on Netflix has nearly tripled since 2010. The streaming service’s number of movies has decreased by more than 2,000 titles since 2010, while its number of TV shows has nearly tripled. It will be interesting to explore what all other insights can be obtained from the same dataset.\n",
        "\n",
        "Integrating this dataset with other external datasets such as IMDB ratings, rotten tomatoes can also provide many interesting findings."
      ],
      "metadata": {
        "id": "DpeJGUA3kjGy"
      }
    },
    {
      "cell_type": "markdown",
      "source": [
        "In this project, we are required to do:\n",
        "\n",
        "1.Exploratory Data Analysis\n",
        "\n",
        "2.Understanding what type content is available in different countries\n",
        "\n",
        "3.Is Netflix has increasingly focusing on TV rather than movies in recent years.\n",
        "\n",
        "4.Clustering similar content by matching text-based features."
      ],
      "metadata": {
        "id": "-oACr6zxi-4m"
      }
    },
    {
      "cell_type": "markdown",
      "source": [
        "![netflix pic.webp](data:image/webp;base64,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)"
      ],
      "metadata": {
        "id": "Acgl00CujKVs"
      }
    },
    {
      "cell_type": "markdown",
      "source": [
        "# ***Let's Begin !***"
      ],
      "metadata": {
        "id": "O_i_v8NEhb9l"
      }
    },
    {
      "cell_type": "markdown",
      "source": [
        "## ***1. Know Your Data***"
      ],
      "metadata": {
        "id": "HhfV-JJviCcP"
      }
    },
    {
      "cell_type": "markdown",
      "source": [
        "### Import Libraries"
      ],
      "metadata": {
        "id": "Y3lxredqlCYt"
      }
    },
    {
      "cell_type": "code",
      "source": [
        "# Import Libraries\n",
        "# Import Libraries\n",
        "import numpy as np\n",
        "import pandas as pd\n",
        "\n",
        "import matplotlib.pyplot as plt\n",
        "%matplotlib inline\n",
        "import seaborn as sns\n",
        "plt.style.use('fivethirtyeight')\n",
        "import plotly.express as px\n",
        "import plotly.graph_objs as go\n",
        "\n",
        "\n",
        "import warnings\n",
        "warnings.filterwarnings('ignore')\n",
        "pd.set_option('display.max_columns', None)\n",
        "\n",
        "import missingno as msno"
      ],
      "metadata": {
        "id": "M8Vqi-pPk-HR"
      },
      "execution_count": null,
      "outputs": []
    },
    {
      "cell_type": "code",
      "source": [
        "#mounting the dataset\n",
        "from google.colab import drive\n",
        "drive.mount('/content/drive')"
      ],
      "metadata": {
        "id": "vwH1rFDujmDt"
      },
      "execution_count": null,
      "outputs": []
    },
    {
      "cell_type": "markdown",
      "source": [
        "### Dataset Loading"
      ],
      "metadata": {
        "id": "3RnN4peoiCZX"
      }
    },
    {
      "cell_type": "code",
      "source": [
        "# Load Dataset\n",
        "file_path = ('/content/NETFLIX MOVIES AND TV SHOWS CLUSTERING.csv')\n",
        "df = pd.read_csv(file_path)"
      ],
      "metadata": {
        "id": "4CkvbW_SlZ_R"
      },
      "execution_count": null,
      "outputs": []
    },
    {
      "cell_type": "markdown",
      "source": [
        "### Dataset First View"
      ],
      "metadata": {
        "id": "x71ZqKXriCWQ"
      }
    },
    {
      "cell_type": "code",
      "source": [
        "recommender_df = df.copy()"
      ],
      "metadata": {
        "id": "JNg17VtKkx7D"
      },
      "execution_count": null,
      "outputs": []
    },
    {
      "cell_type": "code",
      "source": [
        "# Dataset First Look\n",
        "df.head()"
      ],
      "metadata": {
        "id": "LWNFOSvLl09H"
      },
      "execution_count": null,
      "outputs": []
    },
    {
      "cell_type": "markdown",
      "source": [
        "### Dataset Rows & Columns count"
      ],
      "metadata": {
        "id": "7hBIi_osiCS2"
      }
    },
    {
      "cell_type": "code",
      "source": [
        "# Dataset Rows & Columns count\n",
        "print(f'Number of rows in datasets are {df.shape[0]}')\n",
        "print(f'Number of columns in datasets are {df.shape[1]}')"
      ],
      "metadata": {
        "id": "Kllu7SJgmLij"
      },
      "execution_count": null,
      "outputs": []
    },
    {
      "cell_type": "markdown",
      "source": [
        "### Dataset Information"
      ],
      "metadata": {
        "id": "JlHwYmJAmNHm"
      }
    },
    {
      "cell_type": "code",
      "source": [
        "# Dataset Info\n",
        "df.info()"
      ],
      "metadata": {
        "id": "e9hRXRi6meOf"
      },
      "execution_count": null,
      "outputs": []
    },
    {
      "cell_type": "markdown",
      "source": [
        "#### Duplicate Values"
      ],
      "metadata": {
        "id": "35m5QtbWiB9F"
      }
    },
    {
      "cell_type": "code",
      "source": [
        "# Dataset Duplicate Value Count\n",
        "print(f'Duplicates entries in datasets are {df.duplicated().sum()}')"
      ],
      "metadata": {
        "id": "1sLdpKYkmox0"
      },
      "execution_count": null,
      "outputs": []
    },
    {
      "cell_type": "markdown",
      "source": [
        "#### Missing Values/Null Values"
      ],
      "metadata": {
        "id": "PoPl-ycgm1ru"
      }
    },
    {
      "cell_type": "code",
      "source": [
        "# Missing Values/Null Values Count\n",
        "df.isnull().sum()*100/len(df)"
      ],
      "metadata": {
        "id": "GgHWkxvamxVg"
      },
      "execution_count": null,
      "outputs": []
    },
    {
      "cell_type": "code",
      "source": [
        "# Visualizing the missing values\n",
        "msno.bar(df)\n",
        "plt.show()"
      ],
      "metadata": {
        "id": "3q5wnI3om9sJ"
      },
      "execution_count": null,
      "outputs": []
    },
    {
      "cell_type": "markdown",
      "source": [
        "### What did you know about your dataset?"
      ],
      "metadata": {
        "id": "H0kj-8xxnORC"
      }
    },
    {
      "cell_type": "markdown",
      "source": [
        "* There are 7787 rows and 12 columns present in dataset.\n",
        "\n",
        "* Datatypes of variables present in datasets are object as well as integer.\n",
        "\n",
        "* There is no duplicate entries in the dataset.\n",
        "\n",
        "* There are missing values present in the column director,cast,country and rating"
      ],
      "metadata": {
        "id": "gfoNAAC-nUe_"
      }
    },
    {
      "cell_type": "markdown",
      "source": [
        "#### Missing Values Imputation"
      ],
      "metadata": {
        "id": "Hmc_HbmNl4ES"
      }
    },
    {
      "cell_type": "code",
      "source": [
        "# Replacing missing values in the director, cast, and country column with 'Unknown'\n",
        "df[['director','cast','country']] = df[['director','cast','country']].fillna('Unknown')\n",
        "\n",
        "# Replacing the missing values present in rating column with mode\n",
        "df['rating'] = df['rating'].fillna(df['rating'].mode()[0])\n",
        "\n",
        "# Dropping the missing value present in date_added column\n",
        "df.dropna(axis=0, inplace = True)"
      ],
      "metadata": {
        "id": "hvtZoZlnl5ZU"
      },
      "execution_count": null,
      "outputs": []
    },
    {
      "cell_type": "code",
      "source": [
        "clean_df = df[df != 'Unknown'].dropna()"
      ],
      "metadata": {
        "id": "KGYRNhXnmEFv"
      },
      "execution_count": null,
      "outputs": []
    },
    {
      "cell_type": "markdown",
      "source": [
        "## ***2. Understanding Your Variables***"
      ],
      "metadata": {
        "id": "nA9Y7ga8ng1Z"
      }
    },
    {
      "cell_type": "code",
      "source": [
        "# Dataset Columns\n",
        "df.columns"
      ],
      "metadata": {
        "id": "j7xfkqrt5Ag5"
      },
      "execution_count": null,
      "outputs": []
    },
    {
      "cell_type": "code",
      "source": [
        "# Dataset Describe\n",
        "df.describe()"
      ],
      "metadata": {
        "id": "DnOaZdaE5Q5t"
      },
      "execution_count": null,
      "outputs": []
    },
    {
      "cell_type": "markdown",
      "source": [
        "### Variables Description "
      ],
      "metadata": {
        "id": "PBTbrJXOngz2"
      }
    },
    {
      "cell_type": "markdown",
      "source": [
        "* show_id : Unique ID for every Movie / Tv Show\n",
        "* type : Identifier - A Movie or TV Show\n",
        "* title : Title of the Movie / Tv Show\n",
        "* director : Director of the Movie\n",
        "* cast : Actors involved in the movie / show\n",
        "* country : Country where the movie / show was produced\n",
        "* date_added : Date it was added on Netflix\n",
        "* release_year : Actual Releaseyear of the movie / show\n",
        "* rating : TV Rating of the movie / show\n",
        "* duration : Total Duration - in minutes or number of seasons\n",
        "* listed_in : Genre\n",
        "* description: The Summary description"
      ],
      "metadata": {
        "id": "aJV4KIxSnxay"
      }
    },
    {
      "cell_type": "markdown",
      "source": [
        "### Check Unique Values for each variable."
      ],
      "metadata": {
        "id": "u3PMJOP6ngxN"
      }
    },
    {
      "cell_type": "code",
      "source": [
        "# Check Unique Values for each variable.\n",
        "for elem in df.columns:\n",
        "  if df[elem].nunique() < 50 :\n",
        "    print(\"-\"*100)\n",
        "    print(\" \")\n",
        "    print(f'Unique values present in {elem} are')\n",
        "    print(\" \")\n",
        "    print(df[elem].unique())\n",
        "    print(\" \")\n",
        "    print(\"*\"*100)"
      ],
      "metadata": {
        "id": "zms12Yq5n-jE"
      },
      "execution_count": null,
      "outputs": []
    },
    {
      "cell_type": "markdown",
      "source": [
        "## 3. ***Data Wrangling***"
      ],
      "metadata": {
        "id": "dauF4eBmngu3"
      }
    },
    {
      "cell_type": "markdown",
      "source": [
        "### Data Wrangling Code"
      ],
      "metadata": {
        "id": "bKJF3rekwFvQ"
      }
    },
    {
      "cell_type": "code",
      "source": [
        "# Write your code to make your dataset analysis ready."
      ],
      "metadata": {
        "id": "wk-9a2fpoLcV"
      },
      "execution_count": null,
      "outputs": []
    },
    {
      "cell_type": "code",
      "source": [
        "# Dropping the column show_id\n",
        "df.drop(columns = ['show_id'],inplace = True)"
      ],
      "metadata": {
        "id": "doDu0zRum1b7"
      },
      "execution_count": null,
      "outputs": []
    },
    {
      "cell_type": "code",
      "source": [
        "# Looking datatypes of the feature available in dataset\n",
        "df.dtypes"
      ],
      "metadata": {
        "id": "1AG4i7j3m3zl"
      },
      "execution_count": null,
      "outputs": []
    },
    {
      "cell_type": "code",
      "source": [
        "# for tv shows duration is in seasons and for movies duration is in minutes\n",
        "df[df['type'] == 'TV Show']['duration'].unique()"
      ],
      "metadata": {
        "id": "y4Ixnk6nm3kq"
      },
      "execution_count": null,
      "outputs": []
    },
    {
      "cell_type": "code",
      "source": [
        "# Splitting the duration column, and changing the datatype to integer\n",
        "df['duration'] = df['duration'].apply(lambda x : int(x.split(\" \")[0]))"
      ],
      "metadata": {
        "id": "e-IP3gt-m3UV"
      },
      "execution_count": null,
      "outputs": []
    },
    {
      "cell_type": "code",
      "source": [
        "# Creating feature month name from date_added columns\n",
        "df['month_added'] = df['date_added'].apply(lambda x : x.split(\" \")[0])"
      ],
      "metadata": {
        "id": "shhyVs1CnH9H"
      },
      "execution_count": null,
      "outputs": []
    },
    {
      "cell_type": "code",
      "source": [
        "# Creating feature year from date_added columns\n",
        "df['year_added'] = df['date_added'].apply(lambda x : x.split(\" \")[-1])"
      ],
      "metadata": {
        "id": "QTcVTsj0nHvG"
      },
      "execution_count": null,
      "outputs": []
    },
    {
      "cell_type": "code",
      "source": [
        "# Dropping the column date_added\n",
        "df.drop(columns = ['date_added'],inplace = True)"
      ],
      "metadata": {
        "id": "dTK6ReNgncsK"
      },
      "execution_count": null,
      "outputs": []
    },
    {
      "cell_type": "code",
      "source": [
        "# Applying value counts on country\n",
        "df['country'].value_counts()"
      ],
      "metadata": {
        "id": "Ae3bHg6Ynch4"
      },
      "execution_count": null,
      "outputs": []
    },
    {
      "cell_type": "code",
      "source": [
        "# Choosing the main country\n",
        "df['country'] = df['country'].apply(lambda x : x.split(\",\")[0])"
      ],
      "metadata": {
        "id": "MEhSNeHannw6"
      },
      "execution_count": null,
      "outputs": []
    },
    {
      "cell_type": "code",
      "source": [
        "# Choosing the main genres\n",
        "df['genres'] = df['listed_in'].apply(lambda x : x.split(\",\")[0])"
      ],
      "metadata": {
        "id": "WwVuOwAannoE"
      },
      "execution_count": null,
      "outputs": []
    },
    {
      "cell_type": "code",
      "source": [
        "# Applying value_counts on 'rating'.\n",
        "df['rating'].value_counts().to_frame()"
      ],
      "metadata": {
        "id": "zo6t5YDQnnhs"
      },
      "execution_count": null,
      "outputs": []
    },
    {
      "cell_type": "markdown",
      "source": [
        "* TV-MA: This rating indicates that the content is intended for mature audiences only and may contain adult themes, language, nudity, violence, and other mature content.\n",
        "\n",
        "* R: This rating indicates that the content is restricted and may contain adult themes, language, nudity, violence, and other mature content.\n",
        "\n",
        "* PG-13: This rating indicates that the content may contain material that parents may find inappropriate for children under 13 years of age.\n",
        "\n",
        "* TV-14: This rating indicates that the content may contain material that is inappropriate for children under 14 years of age.\n",
        "\n",
        "* TV-PG: This rating indicates that the content is intended for a general audience but may contain some material that parents may find inappropriate for younger children.\n",
        "\n",
        "* NR: This rating stands for \"Not Rated\" and indicates that the content has not been officially rated by a classification board.\n",
        "\n",
        "* TV-G: This rating indicates that the content is suitable for a general audience and contains little or no violence, sexual content, or mature themes.\n",
        "\n",
        "* TV-Y: This rating indicates that the content is intended for children under 7 years of age.\n",
        "\n",
        "* TV-Y7: This rating indicates that the content is intended for children 7 years and older.\n",
        "\n",
        "* PG: This rating indicates that the content may contain material that parents may find inappropriate for younger children.\n",
        "\n",
        "* G: This rating indicates that the content is suitable for all ages and contains little or no violence, sexual content, or mature themes.\n",
        "\n",
        "* NC-17: This rating indicates that the content is intended for adults only and may contain adult themes, language, nudity, violence, and other mature content.\n",
        "\n",
        "* TV-Y7-FV: This rating indicates that the content is intended for children 7 years and older and may contain fantasy violence.\n",
        "\n",
        "* UR: This rating stands for \"Unrated\" and indicates that the content has not been officially rated by a classification board."
      ],
      "metadata": {
        "id": "LbyXE7I1olp8"
      }
    },
    {
      "cell_type": "code",
      "source": [
        "# On the basis of description of rating ,assinging rating according to age_groups\n",
        "ratings_ages = {\n",
        "    'TV-PG': 'Older Kids',\n",
        "    'TV-MA': 'Adults',\n",
        "    'TV-Y7-FV': 'Older Kids',\n",
        "    'TV-Y7': 'Older Kids',\n",
        "    'TV-14': 'Teens',\n",
        "    'R': 'Adults',\n",
        "    'TV-Y': 'Kids',\n",
        "    'NR': 'Adults',\n",
        "    'PG-13': 'Teens',\n",
        "    'TV-G': 'Kids',\n",
        "    'PG': 'Older Kids',\n",
        "    'G': 'Kids',\n",
        "    'UR': 'Adults',\n",
        "    'NC-17': 'Adults'}\n",
        "\n",
        "df['target_ages'] = df['rating'].replace(ratings_ages) "
      ],
      "metadata": {
        "id": "smyR_gCoonfP"
      },
      "execution_count": null,
      "outputs": []
    },
    {
      "cell_type": "code",
      "source": [
        "# Now checking unique values present in target_ages\n",
        "df['target_ages'].unique()"
      ],
      "metadata": {
        "id": "ADsjtGaLomiu"
      },
      "execution_count": null,
      "outputs": []
    },
    {
      "cell_type": "code",
      "source": [
        "# Separating dataframe on the basis of type of show\n",
        "movies_df = df[df['type'] == 'Movie']\n",
        "tv_df = df[df['type'] == 'TV Show']"
      ],
      "metadata": {
        "id": "6cGw_ib9omD2"
      },
      "execution_count": null,
      "outputs": []
    },
    {
      "cell_type": "markdown",
      "source": [
        "### What all manipulations have you done and insights you found?"
      ],
      "metadata": {
        "id": "MSa1f5Uengrz"
      }
    },
    {
      "cell_type": "markdown",
      "source": [
        "Following Data Manipulations are done:\n",
        "* Dropped the column show_id\n",
        "* Splitted the duration column in order to remove units present inside the category of duration column.\n",
        "* Created feature month name from date_added columns.\n",
        "* Created feature year from date_added columns.\n",
        "* Selected the principle country from the available country list.\n",
        "* Selected the main genres from the listed genres.\n",
        "* On the basis of description of rating,assingned rating according to age_groups.\n",
        "* Created movies_df and tv_df on the basis of type of show."
      ],
      "metadata": {
        "id": "nzmChOMqpNr1"
      }
    },
    {
      "cell_type": "markdown",
      "source": [
        "## ***4. Data Vizualization, Storytelling & Experimenting with charts : Understand the relationships between variables***"
      ],
      "metadata": {
        "id": "GF8Ens_Soomf"
      }
    },
    {
      "cell_type": "markdown",
      "source": [
        "**UNIVARIATE ANALYSIS**"
      ],
      "metadata": {
        "id": "ldlBfeQrsBrH"
      }
    },
    {
      "cell_type": "markdown",
      "source": [
        "#### Chart - 1"
      ],
      "metadata": {
        "id": "0wOQAZs5pc--"
      }
    },
    {
      "cell_type": "markdown",
      "source": [
        "####Content Type on Netflix"
      ],
      "metadata": {
        "id": "jpoW3hsKsHfk"
      }
    },
    {
      "cell_type": "code",
      "source": [
        "def pie_chart(data, feature):\n",
        "  fig = go.Figure()\n",
        "\n",
        "  # Adding a pie chart to the figure\n",
        "  fig.add_trace(go.Pie(labels=data[feature].value_counts().index,\n",
        "                       values=data[feature].value_counts().values,\n",
        "                       hole=0.3,\n",
        "                       marker=dict(colors=['#ff9999','#66b3ff'])))\n",
        "\n",
        "  # Updating the layout\n",
        "  fig.update_layout(title='Netflix Content Distribution (Pie Chart)',\n",
        "                    xaxis=dict(showgrid=False, zeroline=False),\n",
        "                    yaxis=dict(showgrid=False, zeroline=False))\n",
        "\n",
        "  # Showing the plot\n",
        "  fig.show()"
      ],
      "metadata": {
        "id": "7v_ESjsspbW7"
      },
      "execution_count": null,
      "outputs": []
    },
    {
      "cell_type": "code",
      "source": [
        "# Plotting pie chart\n",
        "# Calling the function\n",
        "pie_chart(df,'type')"
      ],
      "metadata": {
        "id": "WKHVXTLBsR23"
      },
      "execution_count": null,
      "outputs": []
    },
    {
      "cell_type": "markdown",
      "source": [
        "##### 1. Why did you pick the specific chart?"
      ],
      "metadata": {
        "id": "K5QZ13OEpz2H"
      }
    },
    {
      "cell_type": "markdown",
      "source": [
        "I have used pie chart beacause Pie charts are an effective visualization technique when the categories present inside a feature are limited in number. They allow us to represent the percentage distribution of each category in a clear and concise manner."
      ],
      "metadata": {
        "id": "XESiWehPqBRc"
      }
    },
    {
      "cell_type": "markdown",
      "source": [
        "##### 2. What is/are the insight(s) found from the chart?"
      ],
      "metadata": {
        "id": "lQ7QKXXCp7Bj"
      }
    },
    {
      "cell_type": "markdown",
      "source": [
        "Around 69% content available on Netflix are Movie and 31% are TV Shows."
      ],
      "metadata": {
        "id": "C_j1G7yiqdRP"
      }
    },
    {
      "cell_type": "markdown",
      "source": [
        "##### 3. Will the gained insights help creating a positive business impact? \n",
        "Are there any insights that lead to negative growth? Justify with specific reason."
      ],
      "metadata": {
        "id": "448CDAPjqfQr"
      }
    },
    {
      "cell_type": "markdown",
      "source": [
        "This information can be used to develop personalized recommendations for users based on their viewing habits and preferences. If a user tends to watch mostly movies, the recommendation algorithm can suggest similar movies to watch, which can increase user engagement and satisfaction."
      ],
      "metadata": {
        "id": "3cspy4FjqxJW"
      }
    },
    {
      "cell_type": "markdown",
      "source": [
        "#### Chart - 2"
      ],
      "metadata": {
        "id": "KSlN3yHqYklG"
      }
    },
    {
      "cell_type": "markdown",
      "source": [
        "**MOVIE RATING ANALYSIS**"
      ],
      "metadata": {
        "id": "XT82TBZAs3Wi"
      }
    },
    {
      "cell_type": "code",
      "source": [
        "# Creating a function to fetch required dataframe\n",
        "# def create_temp_df(data,feature):\n",
        "#   temp_df = data.groupby(feature).size().reset_index().rename(columns = {0:'counts'}).sort_values(by = ['counts'],ascending = False)\n",
        "#   return temp_df"
      ],
      "metadata": {
        "id": "Wny2DugMs484"
      },
      "execution_count": null,
      "outputs": []
    },
    {
      "cell_type": "code",
      "source": [
        "def create_temp_df(data, feature):\n",
        "    \"\"\"\n",
        "    This function creates a temporary dataframe by grouping the 'data' dataframe by a specified 'feature'.\n",
        "    It calculates the size of each group, renames the count column to 'counts', sorts the dataframe in descending order based on 'counts',\n",
        "    and returns the resulting temporary dataframe.\n",
        "\n",
        "    Parameters:\n",
        "    data (pandas.DataFrame): The input dataframe.\n",
        "    feature (str): The name of the feature to group the dataframe by.\n",
        "\n",
        "    Returns:\n",
        "    temp_df (pandas.DataFrame): The resulting temporary dataframe.\n",
        "    \"\"\"\n",
        "\n",
        "    # Grouping the 'data' dataframe by the specified 'feature' and calculating the size of each group\n",
        "    temp_df = data.groupby(feature).size().reset_index()\n",
        "\n",
        "    # Renaming the count column to 'counts'\n",
        "    temp_df = temp_df.rename(columns={0: 'counts'})\n",
        "\n",
        "    # Sorting the dataframe in descending order based on 'counts'\n",
        "    temp_df = temp_df.sort_values(by='counts', ascending=False)\n",
        "\n",
        "    # Returning the resulting temporary dataframe\n",
        "    return temp_df"
      ],
      "metadata": {
        "id": "R4YgtaqtYklH"
      },
      "execution_count": null,
      "outputs": []
    },
    {
      "cell_type": "code",
      "source": [
        "# Creating a function to plot bar plot\n",
        "def plot_bar_chart(data, x, y, title, counts):\n",
        "    \"\"\"\n",
        "    This function takes in a dataframe, x and y variables to be plotted, and additional parameters to create a bar chart.\n",
        "    It uses Plotly Express to create a bar chart with color-coding based on the 'counts' variable.\n",
        "    The function also adds axis labels, font, and formatting options to the plot and displays it using the show() function.\n",
        "\n",
        "    Parameters:\n",
        "    data (pandas.DataFrame): The input dataframe.\n",
        "    x (str): The name of the column to be plotted on the x-axis.\n",
        "    y (str): The name of the column to be plotted on the y-axis.\n",
        "    title (str): The title of the plot.\n",
        "    counts (str): The name of the column used for color-coding the plot.\n",
        "    \n",
        "    \"\"\"\n",
        "    \n",
        "    # Creating a bar chart using Plotly Express\n",
        "    fig = px.bar(data , x = x , y = y,\n",
        "             title = title,\n",
        "             color='counts',\n",
        "             color_continuous_scale='teal',\n",
        "             labels=dict(counts=counts))\n",
        "    \n",
        "    # Adding formatting options to the plot\n",
        "    fig.update_layout(yaxis=dict(showgrid=True, gridwidth=1, gridcolor='lightgray'),\n",
        "                  font=dict(size=15, color='black', family='Arial, sans-serif'),\n",
        "                  title=dict(x=0.5, font=dict(size=20)),\n",
        "                  xaxis=dict(title=dict(font=dict(size=15))),\n",
        "                  bargap=0.1,\n",
        "                  bargroupgap=0.5)\n",
        "    \n",
        "    # Add hover text to the plot and customize the marker colors and line widths\n",
        "    fig.update_traces(texttemplate='%{y}',\n",
        "                  textposition='outside',\n",
        "                  hoverinfo='x+y',\n",
        "                  marker=dict(color='#FF0092', line=dict(color='black', width=1.5))) \n",
        "    \n",
        "    # Display the resulting plot\n",
        "    fig.show()"
      ],
      "metadata": {
        "id": "ejS29MT1tFT1"
      },
      "execution_count": null,
      "outputs": []
    },
    {
      "cell_type": "code",
      "source": [
        "# Calling the function to crate required dataframe\n",
        "rating_df = create_temp_df(df,'rating')\n",
        "rating_df"
      ],
      "metadata": {
        "id": "cl8NcB04tFOD"
      },
      "execution_count": null,
      "outputs": []
    },
    {
      "cell_type": "code",
      "source": [
        "#Calling the function for the visualization\n",
        "plot_bar_chart(data = rating_df,x = 'rating',y = 'counts',title = 'Countplot of rating of Movies & TV Shows',counts = 'counts of rating')"
      ],
      "metadata": {
        "id": "8T9MnQ-KtFHz"
      },
      "execution_count": null,
      "outputs": []
    },
    {
      "cell_type": "markdown",
      "source": [
        "##### 1. Why did you pick the specific chart?"
      ],
      "metadata": {
        "id": "t6dVpIINYklI"
      }
    },
    {
      "cell_type": "markdown",
      "source": [
        "I have used bar chart it is more visually appealing for the variable that i have choosen."
      ],
      "metadata": {
        "id": "5aaW0BYyYklI"
      }
    },
    {
      "cell_type": "markdown",
      "source": [
        "##### 2. What is/are the insight(s) found from the chart?"
      ],
      "metadata": {
        "id": "ijmpgYnKYklI"
      }
    },
    {
      "cell_type": "markdown",
      "source": [
        "Netflix Contains more Movies and Shows that have rating \"TV-MA\" followed by \"TV-14\""
      ],
      "metadata": {
        "id": "PSx9atu2YklI"
      }
    },
    {
      "cell_type": "markdown",
      "source": [
        "##### 3. Will the gained insights help creating a positive business impact? \n",
        "Are there any insights that lead to negative growth? Justify with specific reason."
      ],
      "metadata": {
        "id": "-JiQyfWJYklI"
      }
    },
    {
      "cell_type": "markdown",
      "source": [
        "On the positive side, having a high number of movies and shows with mature ratings can appeal to a certain demographic of viewers who prefer this type of content, potentially leading to increased viewership and subscriber growth.\n",
        "\n",
        "On the negative side, the mature content might not be suitable for all ages, and some viewers may not be comfortable watching it. This could result in a decrease in the number of subscribers, especially if these viewers cancel their subscription or choose not to subscribe in the first place."
      ],
      "metadata": {
        "id": "BcBbebzrYklV"
      }
    },
    {
      "cell_type": "markdown",
      "source": [
        "#### Chart - 3"
      ],
      "metadata": {
        "id": "EM7whBJCYoAo"
      }
    },
    {
      "cell_type": "markdown",
      "source": [
        "**Content Added Over the Years**"
      ],
      "metadata": {
        "id": "SinV5iF3uB8Z"
      }
    },
    {
      "cell_type": "code",
      "source": [
        "# create_temp_df function calling\n",
        "show_df = create_temp_df(df,'year_added')\n",
        "show_df"
      ],
      "metadata": {
        "id": "t6GMdE67YoAp"
      },
      "execution_count": null,
      "outputs": []
    },
    {
      "cell_type": "code",
      "source": [
        "# Calling the function for the visualization\n",
        "plot_bar_chart(data = show_df,x = 'year_added',y = 'counts',title = 'Year wise shows distributions',counts = 'counts of shows')"
      ],
      "metadata": {
        "id": "XxXUVo-uuITj"
      },
      "execution_count": null,
      "outputs": []
    },
    {
      "cell_type": "markdown",
      "source": [
        "##### 1. What is/are the insight(s) found from the chart?"
      ],
      "metadata": {
        "id": "85gYPyotYoAp"
      }
    },
    {
      "cell_type": "markdown",
      "source": [
        "from 2010 to 2019 netflix has shown tremendous increase in number of shows i.e 1 show in 2010 to 2153 show in 2019."
      ],
      "metadata": {
        "id": "4jstXR6OYoAp"
      }
    },
    {
      "cell_type": "markdown",
      "source": [
        "##### 2. Will the gained insights help creating a positive business impact? \n",
        "Are there any insights that lead to negative growth? Justify with specific reason."
      ],
      "metadata": {
        "id": "RoGjAbkUYoAp"
      }
    },
    {
      "cell_type": "markdown",
      "source": [
        "The tremendous increase in the number of shows offered by Netflix from 2010 to 2019 is a positive indicator for the company's business impact. This increase in content has helped Netflix attract more subscribers and retain existing ones, as users have more choices of shows and movies to watch. The growth in content also allowed Netflix to expand into new markets and cater to a wider range of audience preferences."
      ],
      "metadata": {
        "id": "zfJ8IqMcYoAp"
      }
    },
    {
      "cell_type": "markdown",
      "source": [
        "#### Chart - 4"
      ],
      "metadata": {
        "id": "4Of9eVA-YrdM"
      }
    },
    {
      "cell_type": "markdown",
      "source": [
        "**ANALYSIS OF SHOWS RELEASE YEAR**"
      ],
      "metadata": {
        "id": "QbndZDvEuuKi"
      }
    },
    {
      "cell_type": "code",
      "source": [
        "# # Calling the function create_temp_df\n",
        "release_df = create_temp_df(df,'release_year').iloc[:20,:]\n",
        "release_df"
      ],
      "metadata": {
        "id": "irlUoxc8YrdO"
      },
      "execution_count": null,
      "outputs": []
    },
    {
      "cell_type": "code",
      "source": [
        "# Calling the function for the visualization\n",
        "plot_bar_chart(data = release_df,x = 'release_year',y = 'counts',title = 'Analysis of shows Releases',counts = 'counts of released shows')"
      ],
      "metadata": {
        "id": "ta4DlZTAu5-s"
      },
      "execution_count": null,
      "outputs": []
    },
    {
      "cell_type": "markdown",
      "source": [
        "##### 1. What is/are the insight(s) found from the chart?"
      ],
      "metadata": {
        "id": "F6T5p64dYrdO"
      }
    },
    {
      "cell_type": "markdown",
      "source": [
        "From 2001 to 2018, the number of shows released by Netflix increased every year. However, in 2019 and 2020, there was a slight decline, which is likely due to the impact of COVID-19. As we know, there were lockdowns across the globe during that time."
      ],
      "metadata": {
        "id": "Xx8WAJvtYrdO"
      }
    },
    {
      "cell_type": "markdown",
      "source": [
        "##### 2. Will the gained insights help creating a positive business impact? \n",
        "Are there any insights that lead to negative growth? Justify with specific reason."
      ],
      "metadata": {
        "id": "y-Ehk30pYrdP"
      }
    },
    {
      "cell_type": "markdown",
      "source": [
        "Trend suggests that Netflix has been successful in consistently increasing the number of shows it produces and releases, which has likely contributed to its success in the streaming market. However, the decline in the number of shows in 2019 and 2020 is likely due to the impact of COVID-19, which caused production delays and disruptions in the entertainment industry."
      ],
      "metadata": {
        "id": "jLNxxz7MYrdP"
      }
    },
    {
      "cell_type": "markdown",
      "source": [
        "#### Chart - 5"
      ],
      "metadata": {
        "id": "bamQiAODYuh1"
      }
    },
    {
      "cell_type": "markdown",
      "source": [
        "**ANALYSIS OF MONTHLY ADDITION OF SHOWS**"
      ],
      "metadata": {
        "id": "jMlqtUoMvTIn"
      }
    },
    {
      "cell_type": "code",
      "source": [
        "# Calling the function\n",
        "month_added_df = create_temp_df(df,'month_added')\n",
        "# Dropping the rows present at index 0 because it is an empty rows having no values of month\n",
        "month_added_df = month_added_df.drop(0)\n",
        "month_added_df"
      ],
      "metadata": {
        "id": "TIJwrbroYuh3"
      },
      "execution_count": null,
      "outputs": []
    },
    {
      "cell_type": "code",
      "source": [
        "# Calling the function for the visualization\n",
        "plot_bar_chart(data = month_added_df,x = 'month_added',y = 'counts',title = 'Analysis of Monthly Addition of Shows',counts = 'counts of added shows')"
      ],
      "metadata": {
        "id": "VAdxDL2GvfnO"
      },
      "execution_count": null,
      "outputs": []
    },
    {
      "cell_type": "markdown",
      "source": [
        "##### 1. What is/are the insight(s) found from the chart?"
      ],
      "metadata": {
        "id": "GwzvFGzlYuh3"
      }
    },
    {
      "cell_type": "markdown",
      "source": [
        "The top three months in a calendar year during which the most number of shows are added to the platform are December, followed by October, and then January."
      ],
      "metadata": {
        "id": "uyqkiB8YYuh3"
      }
    },
    {
      "cell_type": "markdown",
      "source": [
        "2.Are there any insights that lead to negative growth? Justify with specific reason."
      ],
      "metadata": {
        "id": "qYpmQ266Yuh3"
      }
    },
    {
      "cell_type": "markdown",
      "source": [
        "knowing which months are most popular for adding new content can help Netflix plan its content release schedule, allowing the company to maximize the impact of its programming and attract and retain more subscribers. This information could also help the company target its marketing efforts more effectively, focusing on promoting its new releases during the months when viewers are most likely to be seeking out fresh content."
      ],
      "metadata": {
        "id": "_WtzZ_hCYuh4"
      }
    },
    {
      "cell_type": "markdown",
      "source": [
        "#### Chart - 6"
      ],
      "metadata": {
        "id": "OH-pJp9IphqM"
      }
    },
    {
      "cell_type": "markdown",
      "source": [
        "**TOP 10 CONTENT CREATING COUNTRIES**"
      ],
      "metadata": {
        "id": "ib4baHiMwspN"
      }
    },
    {
      "cell_type": "code",
      "source": [
        "# Chart - 6 visualization code"
      ],
      "metadata": {
        "id": "kuRf4wtuphqN"
      },
      "execution_count": null,
      "outputs": []
    },
    {
      "cell_type": "code",
      "source": [
        "# Calling the function\n",
        "country_df = create_temp_df(df,'country')\n",
        "# Dropping country having unknownn lablel\n",
        "country_df = country_df[country_df['country'] != 'Unknown'].iloc[:10,:]\n",
        "country_df"
      ],
      "metadata": {
        "id": "EuSxfo1hw0Qq"
      },
      "execution_count": null,
      "outputs": []
    },
    {
      "cell_type": "code",
      "source": [
        "# Calling the function for the visualization\n",
        "plot_bar_chart(data = country_df,x = 'country',y = 'counts',title = 'Top 10 Content Creating Countries',counts = 'Content Created')"
      ],
      "metadata": {
        "id": "M8K1q4bXw4V7"
      },
      "execution_count": null,
      "outputs": []
    },
    {
      "cell_type": "markdown",
      "source": [
        "##### 1. What is/are the insight(s) found from the chart?"
      ],
      "metadata": {
        "id": "_ouA3fa0phqN"
      }
    },
    {
      "cell_type": "markdown",
      "source": [
        "Majority of content available on the popular streaming platform Netflix is produced in the United States, followed by content produced in India and the United Kingdom."
      ],
      "metadata": {
        "id": "VECbqPI7phqN"
      }
    },
    {
      "cell_type": "markdown",
      "source": [
        "##### 2. Will the gained insights help creating a positive business impact? \n",
        "Are there any insights that lead to negative growth? Justify with specific reason."
      ],
      "metadata": {
        "id": "Seke61FWphqN"
      }
    },
    {
      "cell_type": "markdown",
      "source": [
        "Insights about the availability of content on Netflix can help create positive business impact by informing decisions about which titles to acquire and produce. However, failure to invest in non-American content or producing content that is not well received can lead to negative growth."
      ],
      "metadata": {
        "id": "DW4_bGpfphqN"
      }
    },
    {
      "cell_type": "markdown",
      "source": [
        "#### Chart - 7"
      ],
      "metadata": {
        "id": "PIIx-8_IphqN"
      }
    },
    {
      "cell_type": "markdown",
      "source": [
        "**TARGET AUDIENCE OF CONTENT**"
      ],
      "metadata": {
        "id": "elBgCjTqxgKv"
      }
    },
    {
      "cell_type": "code",
      "source": [
        "# Calling the function\n",
        "targeted_audience_df = create_temp_df(df,'target_ages')\n",
        "targeted_audience_df"
      ],
      "metadata": {
        "id": "lqAIGUfyphqO"
      },
      "execution_count": null,
      "outputs": []
    },
    {
      "cell_type": "code",
      "source": [
        "# Calling the function for the visualization\n",
        "plot_bar_chart(data = targeted_audience_df,x = 'target_ages',y = 'counts',title = '',counts = 'Content Created')"
      ],
      "metadata": {
        "id": "lqSuZhKFxjrP"
      },
      "execution_count": null,
      "outputs": []
    },
    {
      "cell_type": "markdown",
      "source": [
        "##### 1. What is/are the insight(s) found from the chart?"
      ],
      "metadata": {
        "id": "r2jJGEOYphqO"
      }
    },
    {
      "cell_type": "markdown",
      "source": [
        "It can be observed that the majority of content available on Netflix is suitable for adult audiences, followed by teenagers, older kids, and kids. This means that viewers have access to a wide range of shows and movies that are targeted towards mature audiences, such as dramas and crime thrillers, as well as content that is suitable for younger viewers, such as cartoons and family-friendly movies."
      ],
      "metadata": {
        "id": "Po6ZPi4hphqO"
      }
    },
    {
      "cell_type": "markdown",
      "source": [
        "##### 2. Will the gained insights help creating a positive business impact? \n",
        "Are there any insights that lead to negative growth? Justify with specific reason."
      ],
      "metadata": {
        "id": "b0JNsNcRphqO"
      }
    },
    {
      "cell_type": "markdown",
      "source": [
        "Insights about the suitability of content for different age groups can create a positive business impact for Netflix by tailoring its offerings to better meet viewers' needs. However, failure to invest in certain age groups or producing content that is not well received can lead to negative growth."
      ],
      "metadata": {
        "id": "xvSq8iUTphqO"
      }
    },
    {
      "cell_type": "markdown",
      "source": [
        "#### Chart - 8"
      ],
      "metadata": {
        "id": "BZR9WyysphqO"
      }
    },
    {
      "cell_type": "code",
      "source": [
        "# Callling the function so that we can get genres_df\n",
        "genres_df = create_temp_df(df,'genres')\n",
        "# Getting top 20 genres \n",
        "genres_df_20 = genres_df.iloc[:20,:]\n",
        "genres_df_20"
      ],
      "metadata": {
        "id": "TdPTWpAVphqO"
      },
      "execution_count": null,
      "outputs": []
    },
    {
      "cell_type": "code",
      "source": [
        "# Chart - 8 visualization code\n",
        "plot_bar_chart(data = genres_df_20,x = 'genres',y = 'counts',title = 'Top 20 Genres',counts = 'Genres Counts')"
      ],
      "metadata": {
        "id": "8FalSe5fzUyi"
      },
      "execution_count": null,
      "outputs": []
    },
    {
      "cell_type": "markdown",
      "source": [
        "##### 1. What is/are the insight(s) found from the chart?"
      ],
      "metadata": {
        "id": "eZrbJ2SmphqO"
      }
    },
    {
      "cell_type": "markdown",
      "source": [
        "Drama is the most popular genre of content available on Netflix, followed by comedies and documentaries. Action and adventure are also popular genres, with many of the platform's most-watched shows and movies falling under this category.Suprisingly,among all the genres thrillers content are less in number.\n",
        "\n",
        "\n",
        "\n"
      ],
      "metadata": {
        "id": "mZtgC_hjphqO"
      }
    },
    {
      "cell_type": "markdown",
      "source": [
        "##### 2. Will the gained insights help creating a positive business impact? \n",
        "Are there any insights that lead to negative growth? Justify with specific reason."
      ],
      "metadata": {
        "id": "rFu4xreNphqO"
      }
    },
    {
      "cell_type": "markdown",
      "source": [
        "Insights about the popularity of different genres on Netflix can create a positive business impact by informing decisions about which titles to acquire and produce. However, failure to invest in less popular genres or producing content that is not well received can lead to negative growth."
      ],
      "metadata": {
        "id": "ey_0qi68phqO"
      }
    },
    {
      "cell_type": "markdown",
      "source": [
        "#### Chart - 9"
      ],
      "metadata": {
        "id": "YJ55k-q6phqO"
      }
    },
    {
      "cell_type": "markdown",
      "source": [
        "**TV shows with Most Number of Seasons**"
      ],
      "metadata": {
        "id": "HyHg90EAzuOZ"
      }
    },
    {
      "cell_type": "code",
      "source": [
        "# Choosing title and duration of top 20 tv shows which has most number of seasons\n",
        "top_20_seasons = tv_df[['title','duration']].sort_values(by = 'duration',ascending = False).iloc[:20,:]\n",
        "top_20_seasons"
      ],
      "metadata": {
        "id": "-k_Sta4fzqs3"
      },
      "execution_count": null,
      "outputs": []
    },
    {
      "cell_type": "code",
      "source": [
        "# Create the bar chart\n",
        "fig = px.bar(top_20_seasons, x='title', y='duration')\n",
        "fig.update_layout(\n",
        "    title='Number of seasons of Tv Shows',\n",
        "    xaxis_title='Title',\n",
        "    yaxis_title='Duratio ( Number of Seasons )'\n",
        ")\n",
        "\n",
        "# Display the chart\n",
        "fig.show()"
      ],
      "metadata": {
        "id": "B2aS4O1ophqO"
      },
      "execution_count": null,
      "outputs": []
    },
    {
      "cell_type": "markdown",
      "source": [
        "##### 1. What is/are the insight(s) found from the chart?"
      ],
      "metadata": {
        "id": "OVtJsKN_phqQ"
      }
    },
    {
      "cell_type": "markdown",
      "source": [
        "Grey's Anatomy has most number of seasons i.e 16 seasons while Supernatural & NCIS have equal number of seasons i.e 15 seasons"
      ],
      "metadata": {
        "id": "ngGi97qjphqQ"
      }
    },
    {
      "cell_type": "markdown",
      "source": [
        "#### Chart - 10"
      ],
      "metadata": {
        "id": "U2RJ9gkRphqQ"
      }
    },
    {
      "cell_type": "markdown",
      "source": [
        "**Distribution of Movie Duration**"
      ],
      "metadata": {
        "id": "Ww-pzyvO0P_W"
      }
    },
    {
      "cell_type": "code",
      "source": [
        "# Chart - 8 visualization code\n",
        "plt.figure(figsize = (15,6))\n",
        "sns.histplot(data = movies_df,x = 'duration',kde = True,color = 'blue',bins = 30)\n",
        "\n",
        "# add the skewness value to the plot\n",
        "skewness = movies_df['duration'].skew()\n",
        "plt.text(0.7, 0.9, f'Skewness: {skewness:.2f}', transform=plt.gca().transAxes, fontsize=12)\n",
        "\n",
        "plt.title('Distribution of Movie Duration')\n",
        "plt.show()"
      ],
      "metadata": {
        "id": "GM7a4YP4phqQ"
      },
      "execution_count": null,
      "outputs": []
    },
    {
      "cell_type": "markdown",
      "source": [
        "##### 1. What is/are the insight(s) found from the chart?"
      ],
      "metadata": {
        "id": "tgIPom80phqQ"
      }
    },
    {
      "cell_type": "markdown",
      "source": [
        "Based on the skewness value of 0.19, the histogram of duration for movies is approximately symmetric or slightly skewed to the right. This means that the distribution of movie durations is relatively balanced, with a slight tendency towards longer movies.\n",
        "\n",
        "One possible insight from this chart is that there is a good mix of short and long movies available on Netflix. This could indicate that viewers have a range of options to choose from, including shorter movies for those with limited time and longer movies for those looking for a more immersive experience."
      ],
      "metadata": {
        "id": "Qp13pnNzphqQ"
      }
    },
    {
      "cell_type": "markdown",
      "source": [
        "##### 2. Will the gained insights help creating a positive business impact? \n",
        "Are there any insights that lead to negative growth? Justify with specific reason."
      ],
      "metadata": {
        "id": "JMzcOPDDphqR"
      }
    },
    {
      "cell_type": "markdown",
      "source": [
        "Insights about the distribution of movie durations on Netflix can potentially help in creating a positive business impact for the company. By understanding the balance of movie durations, Netflix can make informed decisions about which titles to acquire and produce, leading to increased viewership and revenue.\n",
        "\n",
        "One possible insight that could lead to negative growth is if the majority of viewers have a strong preference for movies of a specific duration. If Netflix fails to provide a sufficient number of movies that meet viewer preferences, it could result in a decrease in subscribers or a decrease in engagement with the platform.\n",
        "\n",
        "Another possible insight that could lead to negative growth is if the duration of a movie has a strong correlation with viewer ratings. For example, if viewers consistently rate shorter movies more positively than longer movies, then Netflix may need to adjust its content strategy to focus on producing more shorter movies."
      ],
      "metadata": {
        "id": "R4Ka1PC2phqR"
      }
    },
    {
      "cell_type": "markdown",
      "source": [
        "#### Chart - 11"
      ],
      "metadata": {
        "id": "x-EpHcCOp1ci"
      }
    },
    {
      "cell_type": "markdown",
      "source": [
        "**TOP 10 Director of Movies**"
      ],
      "metadata": {
        "id": "-f-K_9d41Kvx"
      }
    },
    {
      "cell_type": "code",
      "source": [
        "movies_director_df = movies_df[movies_df['director'] != 'Unknown']\n",
        "\n",
        "# Calling the function \"create_temp_df\" so that we can get top directors\n",
        "top_10_movie_direct_df = create_temp_df(movies_director_df,'director').iloc[:10,:]\n",
        "\n",
        "top_10_movie_direct_df"
      ],
      "metadata": {
        "id": "mAQTIvtqp1cj"
      },
      "execution_count": null,
      "outputs": []
    },
    {
      "cell_type": "code",
      "source": [
        "# Calling the function \"plot_bar_chart\" for visualization purpose\n",
        "plot_bar_chart(data = top_10_movie_direct_df,x = 'director',y = 'counts',title = 'Top 10 Movies Director',counts = 'Number of Movies Directed')"
      ],
      "metadata": {
        "id": "y3GvsLjc1TCK"
      },
      "execution_count": null,
      "outputs": []
    },
    {
      "cell_type": "markdown",
      "source": [
        "##### 1. What is/are the insight(s) found from the chart?"
      ],
      "metadata": {
        "id": "8zGJKyg5p1ck"
      }
    },
    {
      "cell_type": "markdown",
      "source": [
        "While data for the names of most directors is not available, from the available data, we can determine the top three directors of movies content on Netflix. According to the available data, the top three directors are Raul Campos and Jan Suter, Marcus Raboy, and Jay Karas.\n",
        "\n",
        "It is worth noting that the available data may not be a representative sample of all the content available on Netflix, and there may be other directors with a significant number of titles on the platform. Nonetheless, the available data suggests that these three directors have been responsible for a substantial amount of content on Netflix."
      ],
      "metadata": {
        "id": "ZYdMsrqVp1ck"
      }
    },
    {
      "cell_type": "markdown",
      "source": [
        "##### 2. Will the gained insights help creating a positive business impact? \n",
        "Are there any insights that lead to negative growth? Justify with specific reason."
      ],
      "metadata": {
        "id": "PVzmfK_Ep1ck"
      }
    },
    {
      "cell_type": "markdown",
      "source": [
        "The insight that Raul Campos and Jan Suter, Marcus Raboy, and Jay Karas are the top three directors of overall content on Netflix could potentially have a positive business impact. By understanding which directors are most successful on the platform, Netflix can make more informed decisions about which directors to collaborate with and which titles to produce or acquire. This could lead to more successful titles, higher viewership, and increased revenue."
      ],
      "metadata": {
        "id": "druuKYZpp1ck"
      }
    },
    {
      "cell_type": "markdown",
      "source": [
        "#### Chart - 12"
      ],
      "metadata": {
        "id": "n3dbpmDWp1ck"
      }
    },
    {
      "cell_type": "markdown",
      "source": [
        "**Top 10 TV Shows Director**"
      ],
      "metadata": {
        "id": "CyYreprK1tk2"
      }
    },
    {
      "cell_type": "code",
      "source": [
        "tv_shows_director_df = tv_df[tv_df['director'] != 'Unknown']\n",
        "\n",
        "# Calling the function \"create_temp_df\" so that we can get top directors\n",
        "top_10_tv_show_direct_df = create_temp_df(tv_shows_director_df,'director').iloc[:10,:]\n",
        "\n",
        "top_10_tv_show_direct_df"
      ],
      "metadata": {
        "id": "bwevp1tKp1ck"
      },
      "execution_count": null,
      "outputs": []
    },
    {
      "cell_type": "code",
      "source": [
        "# Calling the function \"plot_bar_chart\" for visualization purpose\n",
        "plot_bar_chart(data = top_10_tv_show_direct_df,x = 'director',y = 'counts',title = 'Top 10 TV Shows Director',counts = 'Number of TV Shows Directed')"
      ],
      "metadata": {
        "id": "39ew84la2BFO"
      },
      "execution_count": null,
      "outputs": []
    },
    {
      "cell_type": "markdown",
      "source": [
        "##### 1. What is/are the insight(s) found from the chart?"
      ],
      "metadata": {
        "id": "ZWILFDl5p1ck"
      }
    },
    {
      "cell_type": "markdown",
      "source": [
        "While the names of most TV show directors are not available, the available data suggests that Alastair Fothergill is the top director of TV shows on Netflix."
      ],
      "metadata": {
        "id": "x-lUsV2mp1ck"
      }
    },
    {
      "cell_type": "markdown",
      "source": [
        "#### Chart - 13"
      ],
      "metadata": {
        "id": "Ag9LCva-p1cl"
      }
    },
    {
      "cell_type": "markdown",
      "source": [
        "**BIVARIATE ANALYSIS**"
      ],
      "metadata": {
        "id": "5FLWUX272Ukg"
      }
    },
    {
      "cell_type": "markdown",
      "source": [
        "**CONTENT CATEGORY OF POPULAR DIRECTOR**"
      ],
      "metadata": {
        "id": "2LJqotME2aQt"
      }
    },
    {
      "cell_type": "code",
      "source": [
        "# Creating a function so that we can do bivariate analysis with other feature present in dataset\n",
        "def create_plot(hue_param,title):\n",
        "  \"\"\"\n",
        "  The function create_plot is designed to create a bar chart visualization of the top 20 directors on Netflix,\n",
        "  and how their content is distributed across a particular feature in the dataset that is specified using the hue_param parameter.\n",
        "\n",
        "  \"\"\"\n",
        "  # Creating a dataframe that will contain director of both movies as well as TV Shows  \n",
        "  director_df = df[df['director'] != 'Unknown']\n",
        "  # Calling the function \"create_temp_df\" so that we can get top 20 directors\n",
        "  top_20_director = create_temp_df(director_df,'director').iloc[:20,:]\n",
        "  # Merging top_20_director with \"df\" and fetching the column required for analysis\n",
        "  top_20_director = pd.merge(top_20_director,df,on = 'director')[['director','counts',hue_param]].drop_duplicates(subset =['director'],\n",
        "                                                                                                            keep = 'first',ignore_index = True)\n",
        "  # Chart - 13 visualization code\n",
        "  sns.catplot(data = top_20_director,x = 'director',y = 'counts',kind = 'bar',hue = hue_param,aspect = 3,height = 6)\n",
        "  plt.title(title)\n",
        "  plt.xticks(rotation = 90)\n",
        "  plt.show()"
      ],
      "metadata": {
        "id": "EUfxeq9-p1cl"
      },
      "execution_count": null,
      "outputs": []
    },
    {
      "cell_type": "code",
      "source": [
        "# Calling the function \"create_plot\"\n",
        "create_plot('target_ages',title = 'Content Category of Popular Director')"
      ],
      "metadata": {
        "id": "jNxwCUUS2hFw"
      },
      "execution_count": null,
      "outputs": []
    },
    {
      "cell_type": "markdown",
      "source": [
        "##### 1. What is/are the insight(s) found from the chart?"
      ],
      "metadata": {
        "id": "2cELzS2fp1cl"
      }
    },
    {
      "cell_type": "markdown",
      "source": [
        "Top 3 directors of movies i.e., \"Raul Campos, Jan Suter\", \"Marcus Raboy\", and \"Jay Karas\", create content that is mostly suitable for adult audiences. One  Popular indian director \"David Dhawan\" made content that are suitable for teens."
      ],
      "metadata": {
        "id": "ozQPc2_Ip1cl"
      }
    },
    {
      "cell_type": "markdown",
      "source": [
        "##### 2. Will the gained insights help creating a positive business impact? \n",
        "Are there any insights that lead to negative growth? Justify with specific reason."
      ],
      "metadata": {
        "id": "3MPXvC8up1cl"
      }
    },
    {
      "cell_type": "markdown",
      "source": [
        "The insights gained regarding the directors and the suitability of their content for different age groups can help create a positive business impact for Netflix. By understanding which directors create content that is most popular among different age groups, Netflix can create targeted marketing campaigns and recommendations for different customer segments, which can increase engagement and ultimately lead to more subscriptions and revenue."
      ],
      "metadata": {
        "id": "GL8l1tdLp1cl"
      }
    },
    {
      "cell_type": "markdown",
      "source": [
        "#### Chart - 14 - **TOP 20 DIRECTOR & THEIR FAVOURITE GENRES**"
      ],
      "metadata": {
        "id": "NC_X3p0fY2L0"
      }
    },
    {
      "cell_type": "code",
      "source": [
        "# Calling the function \"create_plot\" \n",
        "create_plot('genres',title = 'Top 20 Director & their favourite genres')"
      ],
      "metadata": {
        "id": "xyC9zolEZNRQ"
      },
      "execution_count": null,
      "outputs": []
    },
    {
      "cell_type": "markdown",
      "source": [
        "##### 1. What is/are the insight(s) found from the chart?"
      ],
      "metadata": {
        "id": "YPEH6qLeZNRQ"
      }
    },
    {
      "cell_type": "markdown",
      "source": [
        "Based on the analysis, the top 3 movie directors, Raul Campos, Jan Suter, Marcus Raboy, and Jay Karas, create content that is mostly related to stand-up comedy.Indian Director \"David Dhawan\" mostly create Comedies."
      ],
      "metadata": {
        "id": "bfSqtnDqZNRR"
      }
    },
    {
      "cell_type": "markdown",
      "source": [
        "#### Chart - 15 - AVERAGE MOVIE LENGTH OVER THE YEARS "
      ],
      "metadata": {
        "id": "q29F0dvdveiT"
      }
    },
    {
      "cell_type": "code",
      "source": [
        "# Computing the average movie length for each year for movies only\n",
        "movie_lengths_by_year = df[df['type'] == 'Movie'].groupby('release_year')['duration'].mean().reset_index()\n",
        "\n",
        "# Creating a line plot using Plotly\n",
        "fig = px.line(movie_lengths_by_year, x='release_year', y='duration')\n",
        "\n",
        "# Updating the layout with a title, x-axis and y-axis labels, and a specific width and height\n",
        "fig.update_layout(title='Average movie length over the years', xaxis_title='Year', yaxis_title='Length of movie in minutes', width=1000, height=500)\n",
        "\n",
        "fig.show()"
      ],
      "metadata": {
        "id": "o58-TEIhveiU"
      },
      "execution_count": null,
      "outputs": []
    },
    {
      "cell_type": "markdown",
      "source": [
        "##### 1. Why did you pick the specific chart?"
      ],
      "metadata": {
        "id": "EXh0U9oCveiU"
      }
    },
    {
      "cell_type": "markdown",
      "source": [
        "I have used line chart because line chart is useful in showing overall treand."
      ],
      "metadata": {
        "id": "eMmPjTByveiU"
      }
    },
    {
      "cell_type": "markdown",
      "source": [
        "##### 2. What is/are the insight(s) found from the chart?"
      ],
      "metadata": {
        "id": "22aHeOlLveiV"
      }
    },
    {
      "cell_type": "markdown",
      "source": [
        "The analysis of the line chart indicates that the average length of movies has seen an upward trend till around the year 1965, after which there has been a decline. This insight can help streaming platforms like Netflix in making informed decisions related to the content they acquire and produce. For example, they can prioritize the acquisition of movies that are of shorter duration and avoid investing in longer movies that may not be preferred by audiences."
      ],
      "metadata": {
        "id": "uPQ8RGwHveiV"
      }
    },
    {
      "cell_type": "markdown",
      "source": [
        "###Chart - 16"
      ],
      "metadata": {
        "id": "g-ATYxFrGrvw"
      }
    },
    {
      "cell_type": "code",
      "source": [
        "from collections import defaultdict\n",
        "\n",
        "def plot_top_crew(show_type, region, cast_crew, title, xaxis_title, yaxis_title):\n",
        "    # Filtering the DataFrame to include only movies of the specified show_type and region\n",
        "    temp_df = clean_df[(clean_df['type'] == show_type) & (clean_df['country'] == region)]\n",
        "    \n",
        "    # Creating a defaultdict object to store the director names and their frequencies\n",
        "    categories = defaultdict(int)\n",
        "\n",
        "    # Iterating over each row in the filtered DataFrame\n",
        "    for index, row in temp_df.iterrows():\n",
        "        # Checking if the row has a non-empty cast_crew field\n",
        "        if row[cast_crew]:\n",
        "            # Split the comma-separated director names into a list and iterate over each name\n",
        "            for director in row[cast_crew].split(','):\n",
        "                # Adding 1 to the frequency count for the director name in the 'categories' defaultdict\n",
        "                categories[director.strip()] += 1\n",
        "\n",
        "    # Sorting the 'categories' defaultdict by frequency in descending order and select the top 10 items\n",
        "    counter_list = sorted(categories.items(), key=lambda x: x[1], reverse=True)[:10]\n",
        "\n",
        "    # Creating two lists of director names and their frequencies from the 'counter_list' tuples, and reverse their order\n",
        "    labels = [item[0] for item in counter_list][::-1]\n",
        "    values = [item[1] for item in counter_list][::-1]\n",
        "\n",
        "    # Ploting the bar chart using Plotly\n",
        "    fig = go.Figure(go.Bar(x=values, y=labels, orientation='h'))\n",
        "    fig.update_layout(title=title, xaxis_title=xaxis_title, yaxis_title=yaxis_title)\n",
        "    fig.show()"
      ],
      "metadata": {
        "id": "cmvt4mQr4Q9I"
      },
      "execution_count": null,
      "outputs": []
    },
    {
      "cell_type": "markdown",
      "source": [
        "**TOP 10 MOVIE DIRECTORS IN INDIA**"
      ],
      "metadata": {
        "id": "jmECwo374X4T"
      }
    },
    {
      "cell_type": "code",
      "source": [
        "plot_top_crew('Movie','India','director','Top 10 Movie Director in India','Number of Movies','Director Name')"
      ],
      "metadata": {
        "id": "DTDipHe04Wv6"
      },
      "execution_count": null,
      "outputs": []
    },
    {
      "cell_type": "markdown",
      "source": [
        "##### 1. What is/are the insight(s) found from the chart?"
      ],
      "metadata": {
        "id": "nPZhbENK4ixh"
      }
    },
    {
      "cell_type": "markdown",
      "source": [
        "David Dhawan is most popular director in india follwed by Anurag Kashyap."
      ],
      "metadata": {
        "id": "VHg-Zz2l4lEL"
      }
    },
    {
      "cell_type": "markdown",
      "source": [
        "###Chart - 17"
      ],
      "metadata": {
        "id": "yLjJCtPM0KBk"
      }
    },
    {
      "cell_type": "markdown",
      "source": [
        "**TOP 10 MOVIE DIRECTORS IN UNITED STATES**"
      ],
      "metadata": {
        "id": "JwRAY27D441E"
      }
    },
    {
      "cell_type": "code",
      "source": [
        "plot_top_crew('Movie','United States','director','Top 10 Movie Director in United States','Number of Movies','Director Name')"
      ],
      "metadata": {
        "id": "q4ehTFEx4vl_"
      },
      "execution_count": null,
      "outputs": []
    },
    {
      "cell_type": "markdown",
      "source": [
        "##### 1. What is/are the insight(s) found from the chart?"
      ],
      "metadata": {
        "id": "0fVzhAnz5DO5"
      }
    },
    {
      "cell_type": "markdown",
      "source": [
        "Jay karas and Marcus Raboy are two most popular director in USA "
      ],
      "metadata": {
        "id": "mpMt5ZCP5CUb"
      }
    },
    {
      "cell_type": "markdown",
      "source": [
        "###Chart - 18"
      ],
      "metadata": {
        "id": "YPkFyElv5Ls-"
      }
    },
    {
      "cell_type": "markdown",
      "source": [
        "**TOP 10 MOVIE ACTOR IN INDIA**"
      ],
      "metadata": {
        "id": "32XmOszm5O6S"
      }
    },
    {
      "cell_type": "code",
      "source": [
        "plot_top_crew('Movie','India','cast','Top 10 Movie Actor in India','Number of Movies','Actor Name')"
      ],
      "metadata": {
        "id": "IRptzBb-5V1F"
      },
      "execution_count": null,
      "outputs": []
    },
    {
      "cell_type": "markdown",
      "source": [
        "##### 1. What is/are the insight(s) found from the chart?"
      ],
      "metadata": {
        "id": "lwdjQD5D5U1A"
      }
    },
    {
      "cell_type": "markdown",
      "source": [
        "Anupam Kher is top actor in india."
      ],
      "metadata": {
        "id": "NDFLw7co5jcZ"
      }
    },
    {
      "cell_type": "markdown",
      "source": [
        "###Chart - 19"
      ],
      "metadata": {
        "id": "XokeujFN5p7x"
      }
    },
    {
      "cell_type": "markdown",
      "source": [
        "**TOP 10 MOVIE DIRECTORS IN UNITED STATES**"
      ],
      "metadata": {
        "id": "_6z7dRGq5ppy"
      }
    },
    {
      "cell_type": "code",
      "source": [
        "plot_top_crew('Movie','United States','cast','Top 10 Movie Actor in United States','Number of Movies','Actor Name')"
      ],
      "metadata": {
        "id": "OmhH7Obn53gq"
      },
      "execution_count": null,
      "outputs": []
    },
    {
      "cell_type": "markdown",
      "source": [
        "##### 1. What is/are the insight(s) found from the chart?"
      ],
      "metadata": {
        "id": "Za09XunX54Ra"
      }
    },
    {
      "cell_type": "markdown",
      "source": [
        "Adam Sandler and Samuel L.Jackson are two most popular actor in USA."
      ],
      "metadata": {
        "id": "YM4Tw8SA52go"
      }
    },
    {
      "cell_type": "markdown",
      "source": [
        "###Chart - 20"
      ],
      "metadata": {
        "id": "dX1YJ2i36Mjf"
      }
    },
    {
      "cell_type": "markdown",
      "source": [
        "**TOP 10 TV SHOWS DIRECTORS IN INDIA**"
      ],
      "metadata": {
        "id": "1lprPsxM6LK-"
      }
    },
    {
      "cell_type": "code",
      "source": [
        "plot_top_crew('TV Show','India','director','Top 10 TV Shows Director in India','Number of TV Shows','Director Name')"
      ],
      "metadata": {
        "id": "-4kKDUbA6WDb"
      },
      "execution_count": null,
      "outputs": []
    },
    {
      "cell_type": "markdown",
      "source": [
        "##### 1. What is/are the insight(s) found from the chart?"
      ],
      "metadata": {
        "id": "49N5ScDV6W-E"
      }
    },
    {
      "cell_type": "markdown",
      "source": [
        "Nizar Shafi,Patrick Graham,Soumendra Padhi,Sudha Kongara and Vignesh Shivam are among top TV Shows director in india."
      ],
      "metadata": {
        "id": "25sC0h8p6Wlt"
      }
    },
    {
      "cell_type": "markdown",
      "source": [
        "###Chart - 21"
      ],
      "metadata": {
        "id": "IBV5LtX26z4Q"
      }
    },
    {
      "cell_type": "markdown",
      "source": [
        "**TOP 10 TV SHOWS ACTORS IN INDIA**"
      ],
      "metadata": {
        "id": "uPxSL0-v6zi2"
      }
    },
    {
      "cell_type": "code",
      "source": [
        "plot_top_crew('TV Show','India','cast','Top 10 TV Shows Actor in India','Number of TV Shows','Actor Name')"
      ],
      "metadata": {
        "id": "H0JQRsRG6_rn"
      },
      "execution_count": null,
      "outputs": []
    },
    {
      "cell_type": "markdown",
      "source": [
        "##### 1. What is/are the insight(s) found from the chart?"
      ],
      "metadata": {
        "id": "0qQ5Nl627BJU"
      }
    },
    {
      "cell_type": "markdown",
      "source": [
        "Radhika Apte,Manav Kaul,Rahman,Havish are among top TV Shows actor in india."
      ],
      "metadata": {
        "id": "LRV2PAZr69sS"
      }
    },
    {
      "cell_type": "markdown",
      "source": [
        "###Chart - 22"
      ],
      "metadata": {
        "id": "aGIv_eUI7kKW"
      }
    },
    {
      "cell_type": "markdown",
      "source": [
        "**TOP 10 TV SHOWS DIRECTORS IN UNITED STATES**"
      ],
      "metadata": {
        "id": "BA_93LgH7j0N"
      }
    },
    {
      "cell_type": "code",
      "source": [
        "plot_top_crew('TV Show','United States','director','Top 10 TV Shows Director in United States','Number of TV Shows','Director Name')"
      ],
      "metadata": {
        "id": "830t5YfV7l9c"
      },
      "execution_count": null,
      "outputs": []
    },
    {
      "cell_type": "markdown",
      "source": [
        "##### 1. What is/are the insight(s) found from the chart?"
      ],
      "metadata": {
        "id": "PldbmFzw7myb"
      }
    },
    {
      "cell_type": "markdown",
      "source": [
        "Stan Lathan and Rob Seidenglanz are two top TV Shows director in USA."
      ],
      "metadata": {
        "id": "WExGpQUj7mlE"
      }
    },
    {
      "cell_type": "markdown",
      "source": [
        "###Chart - 23"
      ],
      "metadata": {
        "id": "VsxiRlOK7_lV"
      }
    },
    {
      "cell_type": "markdown",
      "source": [
        "**TOP 10 TV SHOWS ACTORS IN UNITED STATES**"
      ],
      "metadata": {
        "id": "dHkIsAuP7_PI"
      }
    },
    {
      "cell_type": "code",
      "source": [
        "plot_top_crew('TV Show','United States','cast','Top 10 TV Shows Actor in United States','Number of TV Shows','Actor Name')"
      ],
      "metadata": {
        "id": "5bbVg3fR8Bmm"
      },
      "execution_count": null,
      "outputs": []
    },
    {
      "cell_type": "markdown",
      "source": [
        "##### 1. What is/are the insight(s) found from the chart?"
      ],
      "metadata": {
        "id": "ucBZgBxF8Cjf"
      }
    },
    {
      "cell_type": "markdown",
      "source": [
        "Dave Chappelle and Keiynan Lonsdale are two top TV Shows actor in USA."
      ],
      "metadata": {
        "id": "TyoI4yLg8CVT"
      }
    },
    {
      "cell_type": "markdown",
      "source": [
        "###Chart - 24 Correlation Heatmap"
      ],
      "metadata": {
        "id": "TkowfMir8yUk"
      }
    },
    {
      "cell_type": "code",
      "source": [
        "from sklearn.preprocessing import MultiLabelBinarizer\n",
        "\n",
        "# Extracting the 'listed_in' column as a Series object, replace '&' and ',' with spaces, and split the string into a list\n",
        "data = df['listed_in'].astype(str).apply(lambda s: s.replace('&', ' ').replace(',', ' ').split()) \n",
        "\n",
        "# Using MultiLabelBinarizer to perform one-hot encoding on the list of genres\n",
        "mlb = MultiLabelBinarizer()\n",
        "res = pd.DataFrame(mlb.fit_transform(data), columns=mlb.classes_)\n",
        "\n",
        "# Calculating the correlation matrix of the encoded genres\n",
        "corr = res.corr()\n",
        "\n",
        "# Creating a boolean mask to hide the upper triangle of the heatmap\n",
        "mask = np.zeros_like(corr, dtype=np.bool)\n",
        "mask[np.triu_indices_from(mask)] = True\n",
        "\n",
        "# Set up the figure and color map\n",
        "f, ax = plt.subplots(figsize=(35, 34))\n",
        "cmap = sns.diverging_palette(220, 10, as_cmap=True)\n",
        "\n",
        "# Plotting the heatmap with masked upper triangle \n",
        "sns.heatmap(corr, mask=mask, cmap=cmap, vmax=.3, center=0, square=True, linewidths=.5, cbar_kws={\"shrink\": .5})\n",
        "plt.show()"
      ],
      "metadata": {
        "id": "Vpz_HOAQ87wr"
      },
      "execution_count": null,
      "outputs": []
    },
    {
      "cell_type": "markdown",
      "source": [
        "###Chart - 25"
      ],
      "metadata": {
        "id": "UxKnAnlL88tk"
      }
    },
    {
      "cell_type": "markdown",
      "source": [
        "**WORLDCLOUD ON GENRES**"
      ],
      "metadata": {
        "id": "ZiIJ6jSt88UQ"
      }
    },
    {
      "cell_type": "code",
      "source": [
        "from wordcloud import WordCloud"
      ],
      "metadata": {
        "id": "QlwbDxLl9noe"
      },
      "execution_count": null,
      "outputs": []
    },
    {
      "cell_type": "code",
      "source": [
        "# creating the text variable\n",
        "text = \" \".join(items for items in df.listed_in)\n",
        "# Creating word_cloud with text as argument in .generate() method\n",
        "word_cloud1 = WordCloud(collocations = False,width = 700, height = 700).generate(text)\n",
        "# Display the generated Word Cloud\n",
        "plt.figure(figsize = (10,10), facecolor = None)\n",
        "plt.imshow(word_cloud1, interpolation='bilinear')\n",
        "plt.axis(\"off\")\n",
        "plt.show()"
      ],
      "metadata": {
        "id": "ill0Lm9n9vGH"
      },
      "execution_count": null,
      "outputs": []
    },
    {
      "cell_type": "markdown",
      "source": [
        "###Chart - 26"
      ],
      "metadata": {
        "id": "9gMGei5y95t4"
      }
    },
    {
      "cell_type": "markdown",
      "source": [
        "**WORDCLOUDS ON DIRECTORS**"
      ],
      "metadata": {
        "id": "pG5-_4jp987L"
      }
    },
    {
      "cell_type": "code",
      "source": [
        "def create_worldcloud(feature):\n",
        "  # creating the text variable\n",
        "  text = \" \".join(items for items in df[df[feature] != 'Unknown'][feature])\n",
        "  # Creating word_cloud with text as argument in .generate() method\n",
        "  word_cloud1 = WordCloud(collocations = False,width = 700, height = 700).generate(text)\n",
        "  # Display the generated Word Cloud\n",
        "  plt.figure(figsize = (10,10), facecolor = None)\n",
        "  plt.imshow(word_cloud1, interpolation='bilinear')\n",
        "  plt.axis(\"off\")\n",
        "  plt.show()"
      ],
      "metadata": {
        "id": "FQIC93Go-B-8"
      },
      "execution_count": null,
      "outputs": []
    },
    {
      "cell_type": "markdown",
      "source": [
        "###Chart - 27"
      ],
      "metadata": {
        "id": "DINUQPT1-SNc"
      }
    },
    {
      "cell_type": "markdown",
      "source": [
        "**WORDCLOUD ON DIRECTOR**"
      ],
      "metadata": {
        "id": "LZdQ4IJt-Rqo"
      }
    },
    {
      "cell_type": "code",
      "source": [
        "create_worldcloud('director')"
      ],
      "metadata": {
        "id": "qxBiiL1G-BzU"
      },
      "execution_count": null,
      "outputs": []
    },
    {
      "cell_type": "markdown",
      "source": [
        "###Chart - 28"
      ],
      "metadata": {
        "id": "dpI9M2ah-gEA"
      }
    },
    {
      "cell_type": "markdown",
      "source": [
        "**WORDCLOUDS ON CAST**"
      ],
      "metadata": {
        "id": "d6Lul5MN-frf"
      }
    },
    {
      "cell_type": "code",
      "source": [
        "create_worldcloud('cast')"
      ],
      "metadata": {
        "id": "MHrBEIxA-iTV"
      },
      "execution_count": null,
      "outputs": []
    },
    {
      "cell_type": "markdown",
      "source": [
        "## ***5. Feature Engineering & Data Pre-processing***"
      ],
      "metadata": {
        "id": "0P0xNVK3-2-V"
      }
    },
    {
      "cell_type": "markdown",
      "source": [
        "### 1. Handling Missing Values"
      ],
      "metadata": {
        "id": "BplwkD1W-9Lh"
      }
    },
    {
      "cell_type": "code",
      "source": [
        "# Handling Missing Values & Missing Value Imput\n",
        "df.isnull().sum()"
      ],
      "metadata": {
        "id": "Hj1xXcUi--eD"
      },
      "execution_count": null,
      "outputs": []
    },
    {
      "cell_type": "markdown",
      "source": [
        "Missing Value already handled"
      ],
      "metadata": {
        "id": "sHHBCJ2n_IO7"
      }
    },
    {
      "cell_type": "markdown",
      "source": [
        "### 2. Handling Outliers"
      ],
      "metadata": {
        "id": "id1riN9m0vUs"
      }
    },
    {
      "cell_type": "code",
      "source": [
        "# Handling Outliers & Outlier treatments\n",
        "df.dtypes"
      ],
      "metadata": {
        "id": "M6w2CzZf04JK"
      },
      "execution_count": null,
      "outputs": []
    },
    {
      "cell_type": "markdown",
      "source": [
        "##### What all outlier treatment techniques have you used and why did you use those techniques?"
      ],
      "metadata": {
        "id": "578E2V7j08f6"
      }
    },
    {
      "cell_type": "markdown",
      "source": [
        "Only two numerical column found and for this project no outlier treatment required."
      ],
      "metadata": {
        "id": "uGZz5OrT1HH-"
      }
    },
    {
      "cell_type": "markdown",
      "source": [
        "### 3. Textual Data Preprocessing \n",
        "(It's mandatory for textual dataset i.e., NLP, Sentiment Analysis, Text Clustering etc.)"
      ],
      "metadata": {
        "id": "Iwf50b-R2tYG"
      }
    },
    {
      "cell_type": "code",
      "source": [
        "import nltk\n",
        "from nltk import word_tokenize, sent_tokenize\n",
        "from nltk.corpus import stopwords\n",
        "from nltk.stem import LancasterStemmer, WordNetLemmatizer\n",
        "from sklearn.feature_extraction.text import TfidfVectorizer\n",
        "\n",
        "from nltk.stem import WordNetLemmatizer\n",
        "nltk.download('wordnet')\n",
        "import nltk\n",
        "nltk.download('stopwords')\n",
        "from nltk.corpus import stopwords\n",
        "import string\n",
        "string.punctuation\n",
        "nltk.download('omw-1.4')\n",
        "from nltk.tokenize import TweetTokenizer"
      ],
      "metadata": {
        "id": "YfyzhL9Y__nQ"
      },
      "execution_count": null,
      "outputs": []
    },
    {
      "cell_type": "code",
      "source": [
        "path = '/content/NETFLIX MOVIES AND TV SHOWS CLUSTERING.csv'"
      ],
      "metadata": {
        "id": "iR08i0F8AjLZ"
      },
      "execution_count": null,
      "outputs": []
    },
    {
      "cell_type": "code",
      "source": [
        "data = pd.read_csv(path)"
      ],
      "metadata": {
        "id": "zAOdcK4BAi5_"
      },
      "execution_count": null,
      "outputs": []
    },
    {
      "cell_type": "code",
      "source": [
        "data.fillna('',inplace = True)"
      ],
      "metadata": {
        "id": "9JupjqsuAipw"
      },
      "execution_count": null,
      "outputs": []
    },
    {
      "cell_type": "code",
      "source": [
        "data.head()"
      ],
      "metadata": {
        "id": "KbwPva5HDyhX"
      },
      "execution_count": null,
      "outputs": []
    },
    {
      "cell_type": "code",
      "source": [
        "# Combining all the clustering attributes into a single column\n",
        "data['clustering_attributes'] = (data['director'] + ' ' + data['cast'] +' ' + data['country'] +' ' + data['listed_in'] + ' ' + data['description'])"
      ],
      "metadata": {
        "id": "S0LGLeofEFHo"
      },
      "execution_count": null,
      "outputs": []
    },
    {
      "cell_type": "code",
      "source": [
        "data['clustering_attributes'][40]"
      ],
      "metadata": {
        "id": "jKzToksrEEl1"
      },
      "execution_count": null,
      "outputs": []
    },
    {
      "cell_type": "code",
      "source": [
        "len(data['clustering_attributes'][40])"
      ],
      "metadata": {
        "id": "tRqCZcGtESM0"
      },
      "execution_count": null,
      "outputs": []
    },
    {
      "cell_type": "code",
      "source": [
        "data['clustering_attributes'].dtypes"
      ],
      "metadata": {
        "id": "PUyTvsYtEYkK"
      },
      "execution_count": null,
      "outputs": []
    },
    {
      "cell_type": "markdown",
      "source": [
        "##Removing non-ASCII characters"
      ],
      "metadata": {
        "id": "5xjwTTd-EDql"
      }
    },
    {
      "cell_type": "code",
      "source": [
        "import re\n",
        "\n",
        "def remove_non_ascii(text):\n",
        "    \"\"\"\n",
        "    Function to remove non-ASCII characters from a string.\n",
        "\n",
        "    Args:\n",
        "        text: A string containing text that may include non-ASCII characters.\n",
        "\n",
        "    Returns:\n",
        "        A new string where any non-ASCII characters have been removed.\n",
        "\n",
        "    \"\"\"\n",
        "    return re.sub(r'[^\\x00-\\x7F]+', '', text)\n",
        "\n",
        "# Applying the remove_non_ascii function to the clustering_attributes column of the data DataFrame\n",
        "data['clustering_attributes'] = data['clustering_attributes'].apply(remove_non_ascii)"
      ],
      "metadata": {
        "id": "bYUeE36ZEmsQ"
      },
      "execution_count": null,
      "outputs": []
    },
    {
      "cell_type": "markdown",
      "source": [
        "#### 1. Expand Contraction"
      ],
      "metadata": {
        "id": "GMQiZwjn3iu7"
      }
    },
    {
      "cell_type": "code",
      "source": [
        "pip install contractions --quiet"
      ],
      "metadata": {
        "id": "3YAbr2MnE1H-"
      },
      "execution_count": null,
      "outputs": []
    },
    {
      "cell_type": "code",
      "source": [
        "import contractions\n",
        "\n",
        "# Applying the contractions.fix() function to the clustering_attributes column of the data DataFrame\n",
        "# This function replaces common contractions (e.g., \"can't\" => \"cannot\") with their expanded forms.\n",
        "\n",
        "data['clustering_attributes'] = data['clustering_attributes'].apply(lambda x : contractions.fix(x))"
      ],
      "metadata": {
        "id": "PTouz10C3oNN"
      },
      "execution_count": null,
      "outputs": []
    },
    {
      "cell_type": "markdown",
      "source": [
        "#### 2. Lower Casing"
      ],
      "metadata": {
        "id": "WVIkgGqN3qsr"
      }
    },
    {
      "cell_type": "code",
      "source": [
        "# Lower Casing\n",
        "data['clustering_attributes'] = data['clustering_attributes'].apply(lambda x : x.lower())"
      ],
      "metadata": {
        "id": "88JnJ1jN3w7j"
      },
      "execution_count": null,
      "outputs": []
    },
    {
      "cell_type": "markdown",
      "source": [
        "#### 3. Removing Punctuations"
      ],
      "metadata": {
        "id": "XkPnILGE3zoT"
      }
    },
    {
      "cell_type": "code",
      "source": [
        "# Remove Punctuations\n",
        "def remove_punctuation(text):\n",
        "    '''a function for removing punctuation using string.punctuation'''\n",
        "    translator = str.maketrans('', '', string.punctuation)   \n",
        "    # return the text stripped of punctuation marks\n",
        "    return text.translate(translator)"
      ],
      "metadata": {
        "id": "vqbBqNaA33c0"
      },
      "execution_count": null,
      "outputs": []
    },
    {
      "cell_type": "code",
      "source": [
        "# applying the remove_punctuation function to the clustering_attributes column\n",
        "data['clustering_attributes'] = data['clustering_attributes'].apply(remove_punctuation)"
      ],
      "metadata": {
        "id": "W31CWYqvFpdB"
      },
      "execution_count": null,
      "outputs": []
    },
    {
      "cell_type": "markdown",
      "source": [
        "#### 4. Removing URLs & Removing words and digits contain digits."
      ],
      "metadata": {
        "id": "Hlsf0x5436Go"
      }
    },
    {
      "cell_type": "code",
      "source": [
        "# Remove URLs & Remove words and digits contain digits\n",
        "def remove_digits_urls(text):\n",
        "    '''a function for removing digits and URLs from text'''\n",
        "    # remove digits\n",
        "    text = re.sub(r'\\d+', '', text)\n",
        "    # remove URLs\n",
        "    text = re.sub(r'http\\S+', '', text)\n",
        "    text = re.sub(r'www\\S+', '', text)\n",
        "    # return text without digits and URLs\n",
        "    return text"
      ],
      "metadata": {
        "id": "2sxKgKxu4Ip3"
      },
      "execution_count": null,
      "outputs": []
    },
    {
      "cell_type": "code",
      "source": [
        "# applying the remove_digits_urls function to the clustering_attributes column\n",
        "data['clustering_attributes'] = data['clustering_attributes'].apply(remove_digits_urls)"
      ],
      "metadata": {
        "id": "33CfTbUTNZAw"
      },
      "execution_count": null,
      "outputs": []
    },
    {
      "cell_type": "markdown",
      "source": [
        "#### 5. Removing Stopwords & Removing White spaces"
      ],
      "metadata": {
        "id": "mT9DMSJo4nBL"
      }
    },
    {
      "cell_type": "code",
      "source": [
        "# Remove Stopwords\n",
        "# Defining the stop words to remove\n",
        "stop_words = set(stopwords.words('english'))\n",
        "\n",
        "# Defining a function to remove stop words from a given text\n",
        "def remove_stopwords(text):\n",
        "  # Splitting the text into individual words\n",
        "    words = text.split()\n",
        "    # Filtering out the stop words from the list of words\n",
        "    filtered_words = [word for word in words if word.lower() not in stop_words]\n",
        "    # Joining the filtered words back into a single string\n",
        "    return ' '.join(filtered_words)\n",
        "\n",
        "# Applying the remove_stopwords function to a column of text data\n",
        "data['clustering_attributes'] = data['clustering_attributes'].apply(remove_stopwords)"
      ],
      "metadata": {
        "id": "T2LSJh154s8W"
      },
      "execution_count": null,
      "outputs": []
    },
    {
      "cell_type": "code",
      "source": [
        "# Remove White spaces\n",
        "#def remove_whitespace(text):\n",
        "#    \"\"\"Remove all white space from a text\"\"\"\n",
        "#    return text.replace(\" \", \"\")"
      ],
      "metadata": {
        "id": "EgLJGffy4vm0"
      },
      "execution_count": null,
      "outputs": []
    },
    {
      "cell_type": "code",
      "source": [
        "#applying the remove_whitespace function to the clustering_attributes column\n",
        "#data['clustering_attributes'] = data['clustering_attributes'].apply(remove_whitespace)"
      ],
      "metadata": {
        "id": "DYR-tqTRNiNi"
      },
      "execution_count": null,
      "outputs": []
    },
    {
      "cell_type": "markdown",
      "source": [
        "#### 6. Tokenization"
      ],
      "metadata": {
        "id": "OeJFEK0N496M"
      }
    },
    {
      "cell_type": "code",
      "source": [
        "data['clustering_attributes'][40]"
      ],
      "metadata": {
        "id": "b4t-QMN8NuA-"
      },
      "execution_count": null,
      "outputs": []
    },
    {
      "cell_type": "code",
      "source": [
        "# Tokenization\n",
        "# Create an instance of the TweetTokenizer class\n",
        "tokenizer = TweetTokenizer()\n",
        "#Applying Tolenization\n",
        "data['clustering_attributes'] = data['clustering_attributes'].apply(lambda x: tokenizer.tokenize(x))"
      ],
      "metadata": {
        "id": "ijx1rUOS5CUU"
      },
      "execution_count": null,
      "outputs": []
    },
    {
      "cell_type": "markdown",
      "source": [
        "#### 7. Text Normalization"
      ],
      "metadata": {
        "id": "9ExmJH0g5HBk"
      }
    },
    {
      "cell_type": "code",
      "source": [
        "# Normalizing Text (i.e., Stemming, Lemmatization etc.)\n",
        "lemmatizer = WordNetLemmatizer()\n",
        "# Defining a function to lemmatize each token\n",
        "def lemmatize_tokens(tokens):\n",
        "    lem = WordNetLemmatizer()\n",
        "    return [lem.lemmatize(token) for token in tokens]\n",
        "\n",
        "#Applying Lemmitization\n",
        "data['clustering_attributes'] = data['clustering_attributes'].apply(lemmatize_tokens)"
      ],
      "metadata": {
        "id": "AIJ1a-Zc5PY8"
      },
      "execution_count": null,
      "outputs": []
    },
    {
      "cell_type": "markdown",
      "source": [
        "##### Which text normalization technique have you used and why?"
      ],
      "metadata": {
        "id": "cJNqERVU536h"
      }
    },
    {
      "cell_type": "markdown",
      "source": [
        "I have used lemmatization as the text normalization technique because it reduces words to their base form, which can help with text analysis and understanding. It also helps to avoid duplication of words with different inflections, and makes it easier to perform analysis on the text. Additionally, lemmatization is more accurate than stemming as it uses a dictionary-based approach to identify the correct base form of a word."
      ],
      "metadata": {
        "id": "Z9jKVxE06BC1"
      }
    },
    {
      "cell_type": "code",
      "source": [
        "# Extracting the column of text data to be used for clustering\n",
        "clustering_data = data['clustering_attributes']"
      ],
      "metadata": {
        "id": "CjZM5Za1OKpG"
      },
      "execution_count": null,
      "outputs": []
    },
    {
      "cell_type": "code",
      "source": [
        "data['clustering_attributes']"
      ],
      "metadata": {
        "id": "gfgna9olOKF0"
      },
      "execution_count": null,
      "outputs": []
    },
    {
      "cell_type": "code",
      "source": [
        "type(clustering_data)"
      ],
      "metadata": {
        "id": "KwJAC8ovOQYN"
      },
      "execution_count": null,
      "outputs": []
    },
    {
      "cell_type": "code",
      "source": [
        "# Converting the Pandas Series to a list of strings\n",
        "doc_list = clustering_data.tolist()"
      ],
      "metadata": {
        "id": "_WiV3YTROTTL"
      },
      "execution_count": null,
      "outputs": []
    },
    {
      "cell_type": "markdown",
      "source": [
        "#### 8. Text Vectorization"
      ],
      "metadata": {
        "id": "T0VqWOYE6DLQ"
      }
    },
    {
      "cell_type": "code",
      "source": [
        "from sklearn.feature_extraction.text import TfidfVectorizer"
      ],
      "metadata": {
        "id": "Sqfo4kGoOted"
      },
      "execution_count": null,
      "outputs": []
    },
    {
      "cell_type": "code",
      "source": [
        "from sklearn.feature_extraction.text import TfidfVectorizer\n",
        "\n",
        "# Convert each list of strings in the Pandas Series to a single string\n",
        "documents = [' '.join(strings) for strings in clustering_data]\n",
        "\n",
        "# Create a TfidfVectorizer object with desired parameters\n",
        "tfidf = TfidfVectorizer(stop_words='english', lowercase=False,max_features = 20000)\n",
        "\n",
        "# Use fit_transform() method to transform the list of strings to a TF-IDF feature matrix\n",
        "X = tfidf.fit_transform(documents)\n",
        "\n",
        "# Print the vocabulary and TF-IDF vectors for each document\n",
        "print(\"Vocabulary: \", tfidf.vocabulary_)\n",
        "print(X.toarray())"
      ],
      "metadata": {
        "id": "yBRtdhth6JDE"
      },
      "execution_count": null,
      "outputs": []
    },
    {
      "cell_type": "code",
      "source": [
        "type(X)"
      ],
      "metadata": {
        "id": "T99nlndnO-1I"
      },
      "execution_count": null,
      "outputs": []
    },
    {
      "cell_type": "code",
      "source": [
        "X = X.toarray()"
      ],
      "metadata": {
        "id": "5HSUJzdOO-uH"
      },
      "execution_count": null,
      "outputs": []
    },
    {
      "cell_type": "code",
      "source": [
        "type(X)"
      ],
      "metadata": {
        "id": "QxMsDMaMO-j2"
      },
      "execution_count": null,
      "outputs": []
    },
    {
      "cell_type": "code",
      "source": [
        "X.shape"
      ],
      "metadata": {
        "id": "4TY3YirsO-Zt"
      },
      "execution_count": null,
      "outputs": []
    },
    {
      "cell_type": "markdown",
      "source": [
        "##### Which text vectorization technique have you used and why?"
      ],
      "metadata": {
        "id": "qBMux9mC6MCf"
      }
    },
    {
      "cell_type": "markdown",
      "source": [
        "I have used because it is a statistical measure used to evaluate the importance of a word in a document or corpus. The TF-IDF score for a word is proportional to the frequency of the word in the document, but inversely proportional to the frequency of the word in the corpus.It not only captures the frequency of each word in the document but also takes into account the rarity of the word across the corpus."
      ],
      "metadata": {
        "id": "su2EnbCh6UKQ"
      }
    },
    {
      "cell_type": "markdown",
      "source": [
        "### 9. Dimesionality Reduction"
      ],
      "metadata": {
        "id": "1UUpS68QDMuG"
      }
    },
    {
      "cell_type": "markdown",
      "source": [
        "##### Do you think that dimensionality reduction is needed? Explain Why?"
      ],
      "metadata": {
        "id": "kexQrXU-DjzY"
      }
    },
    {
      "cell_type": "markdown",
      "source": [
        "Yes dimensionality reduction is needed because it reduces computational complexity and improve the performance of machine learning algorithms also as the number of features or dimensions increases, the amount of data required to adequately represent the data also increases. This can lead to overfitting, a phenomenon known as the curse of dimensionality"
      ],
      "metadata": {
        "id": "GGRlBsSGDtTQ"
      }
    },
    {
      "cell_type": "code",
      "source": [
        "# DImensionality Reduction (If needed)\n",
        "from sklearn.decomposition import PCA"
      ],
      "metadata": {
        "id": "kQfvxBBHDvCa"
      },
      "execution_count": null,
      "outputs": []
    },
    {
      "cell_type": "code",
      "source": [
        "# Perform PCA to reduce dimensionality\n",
        "pca = PCA(random_state=42)\n",
        "pca.fit(X)"
      ],
      "metadata": {
        "id": "aNjR4cj7VLWl"
      },
      "execution_count": null,
      "outputs": []
    },
    {
      "cell_type": "code",
      "source": [
        "# Explained variance for different number of components\n",
        "cumulative_variance = np.cumsum(pca.explained_variance_ratio_)\n",
        "n_components = np.argmax(cumulative_variance >= 0.8) + 1\n",
        "\n",
        "# Plotting the cumulative explained variance vs number of components and marking component that shows around 90% Variance\n",
        "plt.figure(figsize=(10,5))\n",
        "plt.plot(cumulative_variance)\n",
        "plt.axvline(x=n_components, color='r', linestyle='--')\n",
        "plt.title('PCA - Cumulative explained variance vs number of components')\n",
        "plt.xlabel('Number of components')\n",
        "plt.ylabel('Cumulative explained variance')\n",
        "plt.show()\n",
        "print(\"\")\n",
        "print(\"Number of components that explain 80% of the variance: \", n_components)# Explained variance for different number of components\n",
        "cumulative_variance = np.cumsum(pca.explained_variance_ratio_)\n",
        "n_components = np.argmax(cumulative_variance >= 0.8) + 1\n",
        "\n"
      ],
      "metadata": {
        "id": "JsVXST_7UwAy"
      },
      "execution_count": null,
      "outputs": []
    },
    {
      "cell_type": "markdown",
      "source": [
        "* 80% Variance explained by around 3364 components so to reducing dimensionality taking 3500 components into consideration."
      ],
      "metadata": {
        "id": "Ra2paaKWRWb0"
      }
    },
    {
      "cell_type": "code",
      "source": [
        "# Initializing PCA with 3500 principal components\n",
        "pca = PCA(n_components=3500, random_state=42)\n",
        "# Fitting and transform the high-dimensional text data X into a lower-dimensional space using PCA\n",
        "X_pca = pca.fit_transform(X)"
      ],
      "metadata": {
        "id": "JrSrqbk8UkGU"
      },
      "execution_count": null,
      "outputs": []
    },
    {
      "cell_type": "code",
      "source": [
        "X_pca.shape"
      ],
      "metadata": {
        "id": "U2hfhjECUm42"
      },
      "execution_count": null,
      "outputs": []
    },
    {
      "cell_type": "markdown",
      "source": [
        "## ***6. ML Model Implementation***"
      ],
      "metadata": {
        "id": "VfCC591jGiD4"
      }
    },
    {
      "cell_type": "markdown",
      "source": [
        "### ML Model - 1"
      ],
      "metadata": {
        "id": "OB4l2ZhMeS1U"
      }
    },
    {
      "cell_type": "code",
      "source": [
        "# ML Model - 1 Implementation\n",
        "\n",
        "# Fit the Algorithm\n",
        "\n",
        "# Predict on the model"
      ],
      "metadata": {
        "id": "7ebyywQieS1U"
      },
      "execution_count": null,
      "outputs": []
    },
    {
      "cell_type": "markdown",
      "source": [
        "#### 1. Explain the ML Model used and it's performance using Evaluation metric Score Chart."
      ],
      "metadata": {
        "id": "ArJBuiUVfxKd"
      }
    },
    {
      "cell_type": "code",
      "source": [
        "# Visualizing evaluation Metric Score chart"
      ],
      "metadata": {
        "id": "rqD5ZohzfxKe"
      },
      "execution_count": null,
      "outputs": []
    },
    {
      "cell_type": "markdown",
      "source": [
        "#### 2. Cross- Validation & Hyperparameter Tuning"
      ],
      "metadata": {
        "id": "4qY1EAkEfxKe"
      }
    },
    {
      "cell_type": "code",
      "source": [
        "# ML Model - 1 Implementation with hyperparameter optimization techniques (i.e., GridSearch CV, RandomSearch CV, Bayesian Optimization etc.)\n",
        "\n",
        "# Fit the Algorithm\n",
        "\n",
        "# Predict on the model"
      ],
      "metadata": {
        "id": "Dy61ujd6fxKe"
      },
      "execution_count": null,
      "outputs": []
    },
    {
      "cell_type": "markdown",
      "source": [
        "##### Which hyperparameter optimization technique have you used and why?"
      ],
      "metadata": {
        "id": "PiV4Ypx8fxKe"
      }
    },
    {
      "cell_type": "markdown",
      "source": [
        "Answer Here."
      ],
      "metadata": {
        "id": "negyGRa7fxKf"
      }
    },
    {
      "cell_type": "markdown",
      "source": [
        "##### Have you seen any improvement? Note down the improvement with updates Evaluation metric Score Chart."
      ],
      "metadata": {
        "id": "TfvqoZmBfxKf"
      }
    },
    {
      "cell_type": "markdown",
      "source": [
        "Answer Here."
      ],
      "metadata": {
        "id": "OaLui8CcfxKf"
      }
    },
    {
      "cell_type": "markdown",
      "source": [
        "### ML Model - 2"
      ],
      "metadata": {
        "id": "dJ2tPlVmpsJ0"
      }
    },
    {
      "cell_type": "markdown",
      "source": [
        "#### 1. Explain the ML Model used and it's performance using Evaluation metric Score Chart."
      ],
      "metadata": {
        "id": "JWYfwnehpsJ1"
      }
    },
    {
      "cell_type": "code",
      "source": [
        "# Visualizing evaluation Metric Score chart"
      ],
      "metadata": {
        "id": "yEl-hgQWpsJ1"
      },
      "execution_count": null,
      "outputs": []
    },
    {
      "cell_type": "markdown",
      "source": [
        "#### 2. Cross- Validation & Hyperparameter Tuning"
      ],
      "metadata": {
        "id": "-jK_YjpMpsJ2"
      }
    },
    {
      "cell_type": "code",
      "source": [
        "# ML Model - 1 Implementation with hyperparameter optimization techniques (i.e., GridSearch CV, RandomSearch CV, Bayesian Optimization etc.)\n",
        "\n",
        "# Fit the Algorithm\n",
        "\n",
        "# Predict on the model"
      ],
      "metadata": {
        "id": "Dn0EOfS6psJ2"
      },
      "execution_count": null,
      "outputs": []
    },
    {
      "cell_type": "markdown",
      "source": [
        "##### Which hyperparameter optimization technique have you used and why?"
      ],
      "metadata": {
        "id": "HAih1iBOpsJ2"
      }
    },
    {
      "cell_type": "markdown",
      "source": [
        "Answer Here."
      ],
      "metadata": {
        "id": "9kBgjYcdpsJ2"
      }
    },
    {
      "cell_type": "markdown",
      "source": [
        "##### Have you seen any improvement? Note down the improvement with updates Evaluation metric Score Chart."
      ],
      "metadata": {
        "id": "zVGeBEFhpsJ2"
      }
    },
    {
      "cell_type": "markdown",
      "source": [
        "Answer Here."
      ],
      "metadata": {
        "id": "74yRdG6UpsJ3"
      }
    },
    {
      "cell_type": "markdown",
      "source": [
        "#### 3. Explain each evaluation metric's indication towards business and the business impact pf the ML model used."
      ],
      "metadata": {
        "id": "bmKjuQ-FpsJ3"
      }
    },
    {
      "cell_type": "markdown",
      "source": [
        "Answer Here."
      ],
      "metadata": {
        "id": "BDKtOrBQpsJ3"
      }
    },
    {
      "cell_type": "markdown",
      "source": [
        "### ML Model - 3"
      ],
      "metadata": {
        "id": "Fze-IPXLpx6K"
      }
    },
    {
      "cell_type": "code",
      "source": [
        "# ML Model - 3 Implementation\n",
        "\n",
        "# Fit the Algorithm\n",
        "\n",
        "# Predict on the model"
      ],
      "metadata": {
        "id": "FFrSXAtrpx6M"
      },
      "execution_count": null,
      "outputs": []
    },
    {
      "cell_type": "markdown",
      "source": [
        "#### 1. Explain the ML Model used and it's performance using Evaluation metric Score Chart."
      ],
      "metadata": {
        "id": "7AN1z2sKpx6M"
      }
    },
    {
      "cell_type": "code",
      "source": [
        "# Visualizing evaluation Metric Score chart"
      ],
      "metadata": {
        "id": "xIY4lxxGpx6M"
      },
      "execution_count": null,
      "outputs": []
    },
    {
      "cell_type": "markdown",
      "source": [
        "#### 2. Cross- Validation & Hyperparameter Tuning"
      ],
      "metadata": {
        "id": "9PIHJqyupx6M"
      }
    },
    {
      "cell_type": "code",
      "source": [
        "# ML Model - 3 Implementation with hyperparameter optimization techniques (i.e., GridSearch CV, RandomSearch CV, Bayesian Optimization etc.)\n",
        "\n",
        "# Fit the Algorithm\n",
        "\n",
        "# Predict on the model"
      ],
      "metadata": {
        "id": "eSVXuaSKpx6M"
      },
      "execution_count": null,
      "outputs": []
    },
    {
      "cell_type": "markdown",
      "source": [
        "##### Which hyperparameter optimization technique have you used and why?"
      ],
      "metadata": {
        "id": "_-qAgymDpx6N"
      }
    },
    {
      "cell_type": "markdown",
      "source": [
        "Answer Here."
      ],
      "metadata": {
        "id": "lQMffxkwpx6N"
      }
    },
    {
      "cell_type": "markdown",
      "source": [
        "##### Have you seen any improvement? Note down the improvement with updates Evaluation metric Score Chart."
      ],
      "metadata": {
        "id": "Z-hykwinpx6N"
      }
    },
    {
      "cell_type": "markdown",
      "source": [
        "Answer Here."
      ],
      "metadata": {
        "id": "MzVzZC6opx6N"
      }
    },
    {
      "cell_type": "markdown",
      "source": [
        "### 1. Which Evaluation metrics did you consider for a positive business impact and why?"
      ],
      "metadata": {
        "id": "h_CCil-SKHpo"
      }
    },
    {
      "cell_type": "markdown",
      "source": [
        "Answer Here."
      ],
      "metadata": {
        "id": "jHVz9hHDKFms"
      }
    },
    {
      "cell_type": "markdown",
      "source": [
        "### 2. Which ML model did you choose from the above created models as your final prediction model and why?"
      ],
      "metadata": {
        "id": "cBFFvTBNJzUa"
      }
    },
    {
      "cell_type": "markdown",
      "source": [
        "Answer Here."
      ],
      "metadata": {
        "id": "6ksF5Q1LKTVm"
      }
    },
    {
      "cell_type": "markdown",
      "source": [
        "### 3. Explain the model which you have used and the feature importance using any model explainability tool?"
      ],
      "metadata": {
        "id": "HvGl1hHyA_VK"
      }
    },
    {
      "cell_type": "markdown",
      "source": [
        "Answer Here."
      ],
      "metadata": {
        "id": "YnvVTiIxBL-C"
      }
    },
    {
      "cell_type": "markdown",
      "source": [
        "## ***8.*** ***Future Work (Optional)***"
      ],
      "metadata": {
        "id": "EyNgTHvd2WFk"
      }
    },
    {
      "cell_type": "markdown",
      "source": [
        "### 1. Save the best performing ml model in a pickle file or joblib file format for deployment process.\n"
      ],
      "metadata": {
        "id": "KH5McJBi2d8v"
      }
    },
    {
      "cell_type": "code",
      "source": [
        "# Save the File"
      ],
      "metadata": {
        "id": "bQIANRl32f4J"
      },
      "execution_count": null,
      "outputs": []
    },
    {
      "cell_type": "markdown",
      "source": [
        "### 2. Again Load the saved model file and try to predict unseen data for a sanity check.\n"
      ],
      "metadata": {
        "id": "iW_Lq9qf2h6X"
      }
    },
    {
      "cell_type": "code",
      "source": [
        "# Load the File and predict unseen data."
      ],
      "metadata": {
        "id": "oEXk9ydD2nVC"
      },
      "execution_count": null,
      "outputs": []
    },
    {
      "cell_type": "markdown",
      "source": [
        "### ***Congrats! Your model is successfully created and ready for deployment on a live server for a real user interaction !!!***"
      ],
      "metadata": {
        "id": "-Kee-DAl2viO"
      }
    },
    {
      "cell_type": "markdown",
      "source": [
        "# **Conclusion**"
      ],
      "metadata": {
        "id": "gCX9965dhzqZ"
      }
    },
    {
      "cell_type": "markdown",
      "source": [
        "Write the conclusion here."
      ],
      "metadata": {
        "id": "Fjb1IsQkh3yE"
      }
    },
    {
      "cell_type": "markdown",
      "source": [
        "### ***Hurrah! You have successfully completed your Machine Learning Capstone Project !!!***"
      ],
      "metadata": {
        "id": "gIfDvo9L0UH2"
      }
    }
  ]
}